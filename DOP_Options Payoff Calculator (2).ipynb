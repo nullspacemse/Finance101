{
 "cells": [
  {
   "cell_type": "markdown",
   "metadata": {},
   "source": [
    "# DOP project: Calculator for Option Strategies\n",
    "\n",
    "***Written by the PGDM Research and Analytics cell***\n",
    "\n",
    "# Basics of option payoffs\n",
    "\n",
    "Before starting out, here are some common notations used in Options pricing:\n",
    "\n",
    "1. Strike Price: $K$\n",
    "\n",
    "2. Price of Asset at Maturity: $S_T$\n",
    "\n",
    "3. Price of the **call option** is: c\n",
    "\n",
    "4. The price of the **put option** is: p\n",
    "\n",
    "Note that we will mention all **payoffs** by including the option price. With this, here are the payoffs for various types of Options and across different positions.\n",
    "\n",
    "1. **Long call payoff**: $\\max(S_T - K - c, -c)$\n",
    "\n",
    "2. **Short call payoff**: $-\\max(S_T - K - c, -c)$\n",
    "\n",
    "3. **Long put payoff**: $\\max(K - S_T - p, -p)$\n",
    "\n",
    "4. **Short put payoff**: $-\\max(K - S_T - p, -p)$\n",
    "\n",
    "\n",
    "# About combined payoffs\n",
    "\n",
    "In this report we will present the combined payoffs resulting from holding a portfolio which could be a combination of long/short positions in stock and long/short positions in multiple types of options. The idea is to plot the payoffs from the constituents of the portfolio and then plot the combined payoffs as well. \n",
    "\n",
    "# About the program\n",
    "\n",
    "Here some features about this Options payoff calculator:\n",
    "\n",
    "1. This is an interactive program - It allows users to enter values on the basis of which, the payoff plots are generated. **First** the user enters **today's stock price** on the basis of which random numbers simulating stock prices are generated. **Secondly** the user can enter whatever instruments he/she desires. We give the user the choice of - long/short Call options, Long/short Put options, Long/short share positions. \n",
    "\n",
    "2. This program has been coded entirely using **basic Python functionality** of conditional statements, functions and loops. The only libraries that have been used are the **plotting** libraries and **random number generator** libraries. \n",
    "\n",
    "3. In addition to plotting the payoffs (combined and individual), the program also outputs the **maximum** payoff and the **stock prices** at which maximum payoff occurs. \n",
    "\n",
    "&nbsp;"
   ]
  },
  {
   "cell_type": "code",
   "execution_count": 1,
   "metadata": {},
   "outputs": [],
   "source": [
    "import numpy as np\n",
    "import pandas as pd\n",
    "import matplotlib.pyplot as plt\n",
    "from matplotlib import cm\n",
    "%matplotlib inline\n",
    "plt.style.use('seaborn-whitegrid')"
   ]
  },
  {
   "cell_type": "code",
   "execution_count": 130,
   "metadata": {},
   "outputs": [],
   "source": [
    "def long_call(c, ST, K):\n",
    "    payoff_LC = []\n",
    "    for i in ST:\n",
    "        if i <= K:\n",
    "            payoff_LC.append(-c)\n",
    "        else:\n",
    "            payoff_LC.append(i - K - c)\n",
    "    return np.array(payoff_LC)\n",
    "\n",
    "def long_put(p, ST, K):\n",
    "    payoff_LP = []\n",
    "    for i in ST:\n",
    "        if i < K:\n",
    "            payoff_LP.append(K - i - p)\n",
    "        else:\n",
    "            payoff_LP.append(-p)\n",
    "    return np.array(payoff_LP)\n",
    "\n",
    "def short_call(c, ST, K):\n",
    "    payoff_SC = []\n",
    "    for i in ST:\n",
    "        if i <= K:\n",
    "            payoff_SC.append(c)\n",
    "        else:\n",
    "            payoff_SC.append(-(i - K - c))\n",
    "    return np.array(payoff_SC)\n",
    "        \n",
    "def short_put(p, ST, K):\n",
    "    payoff_SP = []\n",
    "    for i in ST:\n",
    "        if i < K:\n",
    "            payoff_SP.append(-(K - i - p))\n",
    "        else:\n",
    "            payoff_SP.append(p)\n",
    "    return np.array(payoff_SP)\n",
    "            \n",
    "def short_stock(price, ST):\n",
    "    short_S = []\n",
    "    for i in ST:\n",
    "        short_S.append(-(-price + i))\n",
    "    return np.array(short_S)\n",
    "        \n",
    "def long_stock(price, ST):\n",
    "    long_S = []\n",
    "    for i in ST:\n",
    "        long_S.append(-price + i)\n",
    "    return np.array(long_S)\n",
    "\n",
    "def combined_payoff(ST_1, args):\n",
    "    color = cm.rainbow(np.linspace(0, 1, len(args)))\n",
    "    total_payoff = np.zeros(len(ST_1))\n",
    "    fig = plt.figure(figsize = (7, 7))\n",
    "    for i, c in zip(range(len(args)), color):\n",
    "        total_payoff += args[i]()\n",
    "        plt.plot(ST_1, args[i](), c=c, linestyle='--')\n",
    "    plt.plot(ST_1, total_payoff, 'r')\n",
    "    \n",
    "def extract_function_args(ST_1, port):\n",
    "    func_args = {}\n",
    "    color = cm.rainbow(np.linspace(0, 1, len(port)))\n",
    "    total_pay = np.zeros(len(ST_1))\n",
    "    fig = plt.figure(figsize = (7, 7))\n",
    "    for key, value in port.items():\n",
    "        if len(port[key]) == 0:\n",
    "            pass\n",
    "        elif len(port[key]) != 0:\n",
    "            func_args[key] = value\n",
    "    return func_args\n",
    "\n",
    "def plot_funcs(ST_1, port):\n",
    "    plt.figure(figsize = (8, 8))\n",
    "    func_args = extract_function_args(ST_1, port)\n",
    "    total_payoff = np.zeros(len(ST_1))\n",
    "    for key, value in func_args.items():\n",
    "        if key == 'sell call':\n",
    "            color = cm.rainbow(np.linspace(0, 1, len(value)))\n",
    "            for i, c in zip(range(len(value)), color):\n",
    "                plt.plot(ST_1, short_call(value[i], ST_1,\n",
    "                                        func_args['strike_SC'][i]), c=c, linestyle='--')\n",
    "                total_payoff += short_call(value[i], ST_1, func_args['strike_SC'][i])\n",
    "        elif key == 'buy call':\n",
    "            color = cm.rainbow(np.linspace(0, 1, len(value)))\n",
    "            for i, c in zip(range(len(value)), color):\n",
    "                plt.plot(ST_1, long_call(value[i], ST_1,\n",
    "                                          func_args['strike_LC'][i]), c=c, linestyle='--') \n",
    "                total_payoff += long_call(value[i], ST_1, func_args['strike_LC'][i])\n",
    "        elif key == 'sell put':\n",
    "            color = cm.rainbow(np.linspace(0, 1, len(value)))\n",
    "            for i, c in zip(range(len(value)), color):\n",
    "                plt.plot(ST_1, short_put(value[i], ST_1,\n",
    "                                          func_args['strike_SP'][i]), c=c, linestyle='--') \n",
    "                total_payoff += short_put(value[i], ST_1, func_args['strike_SP'][i])\n",
    "        elif key == 'buy put':\n",
    "            color = cm.rainbow(np.linspace(0, 1, len(value)))\n",
    "            for i, c in zip(range(len(value)), color):\n",
    "                plt.plot(ST_1, long_put(value[i], ST_1,\n",
    "                                          func_args['strike_LP'][i]), c=c, linestyle='--') \n",
    "                total_payoff += long_put(value[i], ST_1, func_args['strike_LP'][i])\n",
    "        elif key == 'buy share':\n",
    "            color = cm.rainbow(np.linspace(0, 1, len(value)))\n",
    "            for i, c in zip(range(len(value)), color):\n",
    "                plt.plot(ST_1, long_stock(value[i], ST_1),\n",
    "                                          c=c, linestyle='--') \n",
    "                total_payoff += long_stock(value[i], ST_1)\n",
    "        elif key == 'sell share':\n",
    "            color = cm.rainbow(np.linspace(0, 1, len(value)))\n",
    "            for i, c in zip(range(len(value)), color):\n",
    "                plt.plot(ST_1, short_stock(value[i], ST_1),\n",
    "                                          c=c, linestyle='--')\n",
    "                total_payoff += short_stock(value[i], ST_1)    \n",
    "    plt.plot(ST_1, total_payoff, 'g', linewidth=4)  \n",
    "    plt.xlabel('ST')\n",
    "    plt.ylabel('Payoff')\n",
    "    plt.ylim(-17, 17)\n",
    "    m = np.max(total_payoff)\n",
    "    print(\"****************\")\n",
    "    print()\n",
    "    print(\"Max payoff is: \", m)\n",
    "    print()\n",
    "    print(\"****************\")\n",
    "    print()\n",
    "    print(\"Stock price at which max payoff is achieved: \", \n",
    "          ST_1[np.where(total_payoff == m)])\n",
    "    print()\n",
    "    print(\"****************\")"
   ]
  },
  {
   "cell_type": "code",
   "execution_count": 132,
   "metadata": {},
   "outputs": [],
   "source": [
    "def display_menu():\n",
    "    print(\"****************\")\n",
    "    print()\n",
    "    print(\"Here are your options for creating a portfolio:\")\n",
    "    print(\"1. Buy a share (long stock position) -- type 'buy share'\")\n",
    "    print(\"2. Sell a share (short stock position) -- type 'sell share'\")\n",
    "    print(\"3. Buy a call option (long call position) -- type 'buy call'\")\n",
    "    print(\"4. Sell a call option (short call position) -- type 'sell call'\")\n",
    "    print(\"5. Buy a put option (long put position) -- type 'buy put'\")\n",
    "    print(\"6. Sell a put option (short put position) -- type 'sell put'\")\n",
    "    print()\n",
    "    print(\"****************\")\n",
    "    print()\n",
    "\n",
    "def create_folio():   \n",
    "    sigma = 20\n",
    "    print(\"*********\")\n",
    "    print()\n",
    "    print(\"Calculator is now running\")\n",
    "    print()\n",
    "    today = float(input(\"ENTER TODAY'S STOCK PRICE: \"))\n",
    "    print()\n",
    "    ST_1 = np.sort(np.array(np.random.normal(today, sigma, size = 1000)))\n",
    "    folio_dict = {'buy share': [], 'sell share': [], 'buy call': [], 'sell call': [],\n",
    "                  'buy put': [], 'sell put': [], 'strike_LC': [], 'strike_SC': [],\n",
    "                  'strike_LP': [], 'strike_SP': []}\n",
    "    args_main = {}\n",
    "    bool1 = True\n",
    "    counter = 0\n",
    "    while bool1 == True:\n",
    "        display_menu()\n",
    "        print()\n",
    "        a = input(\"What would you like ? (type 'nothing' to exit || type the action words otherise): \")\n",
    "        if a == 'nothing':\n",
    "            bool1 = False\n",
    "            return folio_dict, ST_1, args_main\n",
    "        elif a == 'buy share':\n",
    "            st = float(input(\"enter a stock price: \"))\n",
    "            folio_dict['buy share'].append(st)\n",
    "            args_main[counter] = (lambda: long_stock(st, ST_1))\n",
    "        elif a == 'sell share':\n",
    "            st = float(input(\"enter a stock price: \"))\n",
    "            folio_dict['sell share'].append(st)\n",
    "            args_main[counter] = (lambda: short_stock(st, ST_1))\n",
    "        elif a == 'buy call':\n",
    "            c = float(input(\"enter a long call price: \"))\n",
    "            folio_dict['buy call'].append(c)\n",
    "            k = float(input(\"enter a long call strike price: \"))\n",
    "            folio_dict['strike_LC'].append(k)\n",
    "            args_main[counter] = (lambda: long_call(folio_dict['buy call'][-1], \n",
    "                                                    ST_1, folio_dict['strike_LC'][-1]))\n",
    "        elif a == 'sell call':\n",
    "            c = float(input(\"enter a short call price: \"))\n",
    "            folio_dict['sell call'].append(c)\n",
    "            k = float(input(\"enter a short call strike price: \"))\n",
    "            folio_dict['strike_SC'].append(k)\n",
    "            args_main[counter] = (lambda: short_call(folio_dict['sell call'][-1], \n",
    "                                                     ST_1, folio_dict['sell call'][-1]))\n",
    "        elif a == 'buy put':\n",
    "            p = float(input(\"enter a long put price: \"))\n",
    "            folio_dict['buy put'].append(p)\n",
    "            k = float(input(\"enter a long put strike price: \"))\n",
    "            folio_dict['strike_LP'].append(k)\n",
    "            args_main[counter] = (lambda: long_put(p, ST_1, k))\n",
    "        elif a == 'sell put':\n",
    "            p = float(input(\"enter a short put price: \"))\n",
    "            folio_dict['sell put'].append(p)\n",
    "            k = float(input(\"enter a short put strike price: \"))\n",
    "            folio_dict['strike_SP'].append(k)\n",
    "            args_main[counter] = (lambda: short_put(p, ST_1, k))\n",
    "        counter += 1"
   ]
  },
  {
   "cell_type": "code",
   "execution_count": 133,
   "metadata": {},
   "outputs": [
    {
     "name": "stdout",
     "output_type": "stream",
     "text": [
      "*********\n",
      "\n",
      "Calculator is now running\n",
      "\n"
     ]
    },
    {
     "name": "stdin",
     "output_type": "stream",
     "text": [
      "ENTER TODAY'S STOCK PRICE:  212.0\n"
     ]
    },
    {
     "name": "stdout",
     "output_type": "stream",
     "text": [
      "\n",
      "****************\n",
      "\n",
      "Here are your options for creating a portfolio:\n",
      "1. Buy a share (long stock position) -- type 'buy share'\n",
      "2. Sell a share (short stock position) -- type 'sell share'\n",
      "3. Buy a call option (long call position) -- type 'buy call'\n",
      "4. Sell a call option (short call position) -- type 'sell call'\n",
      "5. Buy a put option (long put position) -- type 'buy put'\n",
      "6. Sell a put option (short put position) -- type 'sell put'\n",
      "\n",
      "****************\n",
      "\n",
      "\n"
     ]
    },
    {
     "name": "stdin",
     "output_type": "stream",
     "text": [
      "What would you like ? (type 'nothing' to exit || type the action words otherise):  sell call\n",
      "enter a short call price:  7.63\n",
      "enter a short call strike price:  215.0\n"
     ]
    },
    {
     "name": "stdout",
     "output_type": "stream",
     "text": [
      "****************\n",
      "\n",
      "Here are your options for creating a portfolio:\n",
      "1. Buy a share (long stock position) -- type 'buy share'\n",
      "2. Sell a share (short stock position) -- type 'sell share'\n",
      "3. Buy a call option (long call position) -- type 'buy call'\n",
      "4. Sell a call option (short call position) -- type 'sell call'\n",
      "5. Buy a put option (long put position) -- type 'buy put'\n",
      "6. Sell a put option (short put position) -- type 'sell put'\n",
      "\n",
      "****************\n",
      "\n",
      "\n"
     ]
    },
    {
     "name": "stdin",
     "output_type": "stream",
     "text": [
      "What would you like ? (type 'nothing' to exit || type the action words otherise):  buy call\n",
      "enter a long call price:  5.35\n",
      "enter a long call strike price:  220.0\n"
     ]
    },
    {
     "name": "stdout",
     "output_type": "stream",
     "text": [
      "****************\n",
      "\n",
      "Here are your options for creating a portfolio:\n",
      "1. Buy a share (long stock position) -- type 'buy share'\n",
      "2. Sell a share (short stock position) -- type 'sell share'\n",
      "3. Buy a call option (long call position) -- type 'buy call'\n",
      "4. Sell a call option (short call position) -- type 'sell call'\n",
      "5. Buy a put option (long put position) -- type 'buy put'\n",
      "6. Sell a put option (short put position) -- type 'sell put'\n",
      "\n",
      "****************\n",
      "\n",
      "\n"
     ]
    },
    {
     "name": "stdin",
     "output_type": "stream",
     "text": [
      "What would you like ? (type 'nothing' to exit || type the action words otherise):  sell put\n",
      "enter a short put price:  7.20\n",
      "enter a short put strike price:  210.0\n"
     ]
    },
    {
     "name": "stdout",
     "output_type": "stream",
     "text": [
      "****************\n",
      "\n",
      "Here are your options for creating a portfolio:\n",
      "1. Buy a share (long stock position) -- type 'buy share'\n",
      "2. Sell a share (short stock position) -- type 'sell share'\n",
      "3. Buy a call option (long call position) -- type 'buy call'\n",
      "4. Sell a call option (short call position) -- type 'sell call'\n",
      "5. Buy a put option (long put position) -- type 'buy put'\n",
      "6. Sell a put option (short put position) -- type 'sell put'\n",
      "\n",
      "****************\n",
      "\n",
      "\n"
     ]
    },
    {
     "name": "stdin",
     "output_type": "stream",
     "text": [
      "What would you like ? (type 'nothing' to exit || type the action words otherise):  buy put\n",
      "enter a long put price:  5.52\n",
      "enter a long put strike price:  205.0\n"
     ]
    },
    {
     "name": "stdout",
     "output_type": "stream",
     "text": [
      "****************\n",
      "\n",
      "Here are your options for creating a portfolio:\n",
      "1. Buy a share (long stock position) -- type 'buy share'\n",
      "2. Sell a share (short stock position) -- type 'sell share'\n",
      "3. Buy a call option (long call position) -- type 'buy call'\n",
      "4. Sell a call option (short call position) -- type 'sell call'\n",
      "5. Buy a put option (long put position) -- type 'buy put'\n",
      "6. Sell a put option (short put position) -- type 'sell put'\n",
      "\n",
      "****************\n",
      "\n",
      "\n"
     ]
    },
    {
     "name": "stdin",
     "output_type": "stream",
     "text": [
      "What would you like ? (type 'nothing' to exit || type the action words otherise):  nothing\n"
     ]
    }
   ],
   "source": [
    "port, stockprice, args_new = create_folio()"
   ]
  },
  {
   "cell_type": "code",
   "execution_count": 134,
   "metadata": {},
   "outputs": [
    {
     "name": "stdout",
     "output_type": "stream",
     "text": [
      "****************\n",
      "\n",
      "Max payoff is:  3.960000000000001\n",
      "\n",
      "****************\n",
      "\n",
      "Stock price at which max payoff is achieved:  [210.09351361 210.10931189 210.12162234 210.1479404  210.37354535\n",
      " 210.37802388 210.40941773 210.43035845 210.51629986 210.54384544\n",
      " 210.5702641  210.69586815 210.72617827 210.76814736 210.85472929\n",
      " 210.8996444  210.90986321 210.95642239 211.03321548 211.03844615\n",
      " 211.32609667 211.3500987  211.35491179 211.37484952 211.4127775\n",
      " 211.43572116 211.43845164 211.45965838 211.50401281 211.51315087\n",
      " 211.5153173  211.53691179 211.56357563 211.58737399 211.60859266\n",
      " 211.71862069 211.76252338 211.77482281 211.7827204  211.82288762\n",
      " 211.89464912 211.98606812 212.00868331 212.03929908 212.06800805\n",
      " 212.14531804 212.17870298 212.21683909 212.29437943 212.46625862\n",
      " 212.47128283 212.54313672 212.55292043 212.58838154 212.60744497\n",
      " 212.62085106 212.62737567 212.65237964 212.67595977 212.67692876\n",
      " 212.68950448 212.70669153 212.71210216 212.8650327  212.90962392\n",
      " 212.98596332 213.00223006 213.15828451 213.18976974 213.19699491\n",
      " 213.25794247 213.29945451 213.30186962 213.36990762 213.39982764\n",
      " 213.76323243 213.79810217 214.01198576 214.04187497 214.0434398\n",
      " 214.08784205 214.0884731  214.14243885 214.23503727 214.2560961\n",
      " 214.32386617 214.48059652 214.50496987 214.52285196 214.57676944\n",
      " 214.69262625 214.77770516 214.83148794 214.83251096]\n",
      "\n",
      "****************\n"
     ]
    },
    {
     "data": {
      "text/plain": [
       "<Figure size 576x576 with 0 Axes>"
      ]
     },
     "metadata": {},
     "output_type": "display_data"
    },
    {
     "data": {
      "image/png": "[encoded data removed]",
      "text/plain": [
       "<Figure size 504x504 with 1 Axes>"
      ]
     },
     "metadata": {
      "needs_background": "light"
     },
     "output_type": "display_data"
    }
   ],
   "source": [
    "plot_funcs(stockprice, port)"
   ]
  }
 ],
 "metadata": {
  "kernelspec": {
   "display_name": "Python 3",
   "language": "python",
   "name": "python3"
  },
  "language_info": {
   "codemirror_mode": {
    "name": "ipython",
    "version": 3
   },
   "file_extension": ".py",
   "mimetype": "text/x-python",
   "name": "python",
   "nbconvert_exporter": "python",
   "pygments_lexer": "ipython3",
   "version": "3.7.4"
  }
 },
 "nbformat": 4,
 "nbformat_minor": 4
}
