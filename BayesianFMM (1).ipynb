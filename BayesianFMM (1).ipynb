{
 "cells": [
  {
   "cell_type": "markdown",
   "metadata": {},
   "source": [
    "# Bayesian Methods in Finance\n",
    "\n",
    "***Null Space Research***\n",
    "\n",
    "# The Setup\n",
    "\n",
    "1. There are $100$ coins in total.\n",
    "\n",
    "2. $99$ of those coins are fair and $1$ is biased. \n",
    "\n",
    "3. This means that the probability of randomly picking a fair coin is $0.99$ and the probability of picking a biased coin is $0.01$. \n",
    "\n",
    "$$P(fair) = 0.99, P(biased) = 0.01$$\n",
    "\n",
    "4. Further, the fair coin is associated with an equal probability of heads or tails ($0.5$) whereas the biased coin favors heads with a probability of $0.75$ and tails with a probability of $0.25$. \n",
    "\n",
    "5. Note that our **prior belief** that a coin is fair is $0.99$ - just the prior probability. \n",
    "\n",
    "# Conducting the Experiment\n",
    "\n",
    "1. If we toss the coins randomly, we are interested in knowing as to **how is it that tossing the coin and observing a result, alters our belief of the coin being fair**. \n",
    "\n",
    "2. Suppose we toss first and get a head. What should then the **posterior belief** be ? The posterior belief means that **how confident are we that given a heads on the first toss, that the coin that was tossed, was a fair coin ?**. The quantity we are interested in is:\n",
    "\n",
    "$$P(fair|heads)$$\n",
    "\n",
    "3. We then tend to revise our beliefs based on this new information - these are **posterior beliefs**. We find the posterior as follows:\n",
    "\n",
    "$$P(fair|heads) = \\dfrac{P(heads|fair)P(fair)}{P(heads|fair)P(fair) + P(heads|biased)P(biased)}$$\n",
    "\n",
    "$$P(fair|heads) = \\dfrac{0.99 \\times 0.5}{(0.99 \\times 0.5) + (0.01 \\times 0.75)} = 0.9850$$\n",
    "\n",
    "4. Now the central idea is this - when we toss a **second** coin, then we **update** our initial prior in the previous step with the **new prior** which is nothing but the **old posterior belief**. So the new prior would be $0.9850$. \n",
    "\n",
    "5. We will see now what the model becomes if we observe two heads - that is in the second time step also we get a heads. Heads at time $1$ is called $h_1$ and heads at time $2$ is called $h_2$. \n",
    "\n",
    "$$P(fair|\\{h_1, h_2\\}) = \\dfrac{P(fair|h_1)\\times P(h_2|fair)}{(P(h_2|fair)P(fair|h_1) + P(h_2|biased)P(biased|h_1)}$$\n",
    "\n",
    "$$ = \\dfrac{0.9850 \\times 0.5}{(0.9850 \\times 0.5) + (0.015 \\times 0.75)} = 0.9776$$\n",
    "\n",
    "&nbsp;"
   ]
  },
  {
   "cell_type": "code",
   "execution_count": 8,
   "metadata": {},
   "outputs": [],
   "source": [
    "import numpy as np\n",
    "fair = 99\n",
    "biased = 1\n",
    "total = fair + biased"
   ]
  },
  {
   "cell_type": "code",
   "execution_count": 2,
   "metadata": {},
   "outputs": [],
   "source": [
    "p_f = fair/total\n",
    "p_b = biased/total"
   ]
  },
  {
   "cell_type": "code",
   "execution_count": 48,
   "metadata": {},
   "outputs": [],
   "source": [
    "def selectAndToss():\n",
    "    ishead = True\n",
    "    istail = False\n",
    "    choices = np.random.choice([1, 0], p = [0.99, 0.01])\n",
    "    if choices == 1:\n",
    "        toss = np.random.choice([1, 0], p = [0.5, 0.5])\n",
    "        if toss == 1:\n",
    "            ishead == True\n",
    "            istail == False\n",
    "        else:\n",
    "            ishead == False\n",
    "            istail == True\n",
    "    elif choices == 0:\n",
    "        toss = np.random.choice([1, 0], p = [0.75, 0.25])\n",
    "        if toss == 1:\n",
    "            ishead == True\n",
    "            istail == False\n",
    "        else:\n",
    "            ishead == False\n",
    "            istail == True\n",
    "    return (ishead, istail)"
   ]
  },
  {
   "cell_type": "code",
   "execution_count": 53,
   "metadata": {},
   "outputs": [],
   "source": [
    "def runExp():\n",
    "    p_f = 0.99\n",
    "    p_b = 1 - p_f\n",
    "    for i in range(50):\n",
    "        head, tail = selectAndToss()\n",
    "        if head == True:\n",
    "            post_f = (p_f * 0.5)/((p_f * 0.5) + (p_b * 0.75))\n",
    "            p_f = post_f\n",
    "            p_b = 1 - p_f\n",
    "        elif tail == True:\n",
    "            post_f = (p_f * 0.5)/((p_f * 0.5) + (p_b * 0.25))\n",
    "            p_f = post_f\n",
    "            p_b = 1 - p_f\n",
    "        print(post_f)"
   ]
  },
  {
   "cell_type": "code",
   "execution_count": 54,
   "metadata": {},
   "outputs": [
    {
     "name": "stdout",
     "output_type": "stream",
     "text": [
      "0.9850746268656717\n",
      "0.977777777777778\n",
      "0.9670329670329673\n",
      "0.9513513513513516\n",
      "0.9287598944591032\n",
      "0.8968152866242042\n",
      "0.8528164748637194\n",
      "0.7943582510578284\n",
      "0.7202967131346726\n",
      "0.6319214586255266\n",
      "0.5336997465115735\n",
      "0.43279381393785193\n",
      "0.337171058785673\n",
      "0.2532427476410957\n",
      "0.18439397760658452\n",
      "0.13097995681216776\n",
      "0.09130640765174511\n",
      "0.06278172984046171\n",
      "0.042749107533674474\n",
      "0.028911383638485964\n",
      "0.019461811727374007\n",
      "0.01305926010540608\n",
      "0.008744237829014933\n",
      "0.005846533044482004\n",
      "0.003905299517213332\n",
      "0.0026069266212339934\n",
      "0.0017394626313027236\n",
      "0.0011603145287896115\n",
      "0.000773842319355121\n",
      "0.0005160279876683571\n",
      "0.0003440778430445539\n",
      "0.0002294115405057115\n",
      "0.00015295272337710584\n",
      "0.00010197368130215989\n",
      "6.79847650870294e-05\n",
      "4.532420384313661e-05\n",
      "3.021659240975568e-05\n",
      "2.0144597840204522e-05\n",
      "1.3429822072924588e-05\n",
      "8.953254795489351e-06\n",
      "5.96885434388416e-06\n",
      "3.979244146432342e-06\n",
      "2.652832949711557e-06\n",
      "1.768556863703012e-06\n",
      "1.1790386042009468e-06\n",
      "7.860260450523149e-07\n",
      "5.240175006653444e-07\n",
      "3.4934506146453824e-07\n",
      "2.3289673476346686e-07\n",
      "1.5526450189584309e-07\n"
     ]
    }
   ],
   "source": [
    "runExp()"
   ]
  },
  {
   "cell_type": "markdown",
   "metadata": {},
   "source": [
    "# Bayesian Market Maker\n",
    "\n",
    "1. The market maker's prior belief about a stock's value is that it will be worth $V = 120$ with probability $0.5$ or worth $V = 80$ with probability $0.5$. \n",
    "\n",
    "2. The dealer is interested in knowing the **degree of belief about the value of the stock at future time slots** by considering the **evidence** of a buyer or a seller approaching him. \n",
    "\n",
    "3. Assume the situation wherein we have $2$ informed buyers, $5$ uninformed buyers and $5$ uninformed sellers. \n",
    "\n",
    "4. Let us say that at time $1$ the dealer gets a buyer. He would then revise his belief of the value of stock as follows:\n",
    "\n",
    "$$P(V = 120|b) = \\dfrac{P(b|V = 120)P(V=120)}{P(b|V = 120)P(V = 120) + P(b|V = 80)P(V = 80)}$$\n",
    "\n",
    "$$ = \\dfrac{(7/12)\\times (1/2)}{((7/12) \\times (1/2)) + ((5/12) \\times (1/2))} = \\dfrac{7}{12}$$\n",
    "\n",
    "5. The rationale behind the above computation is this - **only the informed traders know that the price would actually be $120$ at time $1$** - so this implies that **all the buyers** (including the informed traders) will bid for the stock. However, if the value at time $1$ were $80$ then **only the uninformed traders** would bid and **not the informed traders**. That is why the ratio of $7/12$ is associated with the probability of value being $120$ whereas the ratio os $5/12$ is associated with the probability of the value being $80$. \n",
    "\n",
    "6. Using a similar calculation approach we can get the **posterior belief of the value being $V = 80$** as $5/12$. \n",
    "\n",
    "7. Finally, based on this, the market maker sets his **expectd valuation** based on the next traders being a buyer by taking the weighted posteriors along with possible values that the stock can take (This is essentially the dealer's **ask**):\n",
    "\n",
    "$$E(V|b) = \\dfrac{7}{12}\\times 120 + \\dfrac{5}{12}\\times 80 = 103.34$$\n",
    "\n",
    "8. If supposing the next trader was a seller then the posterior for value being $V = 120$ would be given by:\n",
    "\n",
    "$$P(V = 120|s) = \\dfrac{(5/12)\\times (1/2)}{((5/12) \\times (1/2)) + ((7/12) \\times (1/2))} = \\dfrac{7}{12} = 5/12$$\n",
    "\n",
    "9. If the next trader was a seller then the posterior for value being $V = 80$ would be given by:\n",
    "\n",
    "$$P(V = 80|s) = \\dfrac{(7/12)\\times (1/2)}{((5/12) \\times (1/2)) + ((7/12) \\times (1/2))} = \\dfrac{7}{12} = 7/12$$\n",
    "\n",
    "10. Here the rationale is the exact opposite - informed traders would want to sell if they **knew that the stock price will fall to $80$** whereas the uninformed sellers would always come regardless of the price. Finally, the dealer's **bid** would be set as:\n",
    "\n",
    "$$E(V|s) = \\dfrac{5}{12}\\times 120 + \\dfrac{7}{12}\\times 80 = 96.67$$\n",
    "\n",
    "&nbsp;"
   ]
  },
  {
   "cell_type": "code",
   "execution_count": 2,
   "metadata": {},
   "outputs": [],
   "source": [
    "class Trader(object):\n",
    "    def __init__(self, trader, informed):\n",
    "        \n",
    "        # trader = 2 for informed (counts as both buyer and seller). informed = 1\n",
    "        # trader = 1 for buyer if uninformed. uninformed = 0\n",
    "        # trader = 0 for seller if uninformed\n",
    "        \n",
    "        self.trader = trader\n",
    "        self.informed = informed\n",
    "    def getTrader(self):\n",
    "        return self.trader\n",
    "    def getInformed(self):\n",
    "        return self.informed\n",
    "\n",
    "class StockVal(object):\n",
    "    def __init__(self, high, p_h, low, p_l):\n",
    "        self.high = high\n",
    "        self.p_h = p_h\n",
    "        self.low = low\n",
    "        self.p_l = p_l\n",
    "    def getHigh(self):\n",
    "        return self.high\n",
    "    def getLow(self):\n",
    "        return self.low\n",
    "    def getPH(self):\n",
    "        return self.p_h\n",
    "    def getPL(self):\n",
    "        return self.p_l"
   ]
  },
  {
   "cell_type": "code",
   "execution_count": 23,
   "metadata": {},
   "outputs": [
    {
     "name": "stdout",
     "output_type": "stream",
     "text": [
      "enter your trader type\n",
      "\n"
     ]
    },
    {
     "name": "stdin",
     "output_type": "stream",
     "text": [
      "how many informed traders ? [enter an integer|0 for none]   2\n"
     ]
    },
    {
     "name": "stdout",
     "output_type": "stream",
     "text": [
      "\n"
     ]
    },
    {
     "name": "stdin",
     "output_type": "stream",
     "text": [
      "how many uninformed buyers ? [enter an integer|0 for none]  4\n"
     ]
    },
    {
     "name": "stdout",
     "output_type": "stream",
     "text": [
      "\n"
     ]
    },
    {
     "name": "stdin",
     "output_type": "stream",
     "text": [
      "how many uninformed sellers ? [enter an integer|0 for none]  4\n"
     ]
    },
    {
     "name": "stdout",
     "output_type": "stream",
     "text": [
      "\n",
      "enter stock values along with probs\n",
      "\n"
     ]
    },
    {
     "name": "stdin",
     "output_type": "stream",
     "text": [
      "stock high value is:  120\n",
      "probability of attaining high value is:  0.5\n",
      "stock low value is:  80\n",
      "probability of attaining low value is:  0.5\n"
     ]
    }
   ],
   "source": [
    "print(\"enter your trader type\")\n",
    "print()\n",
    "ans1 = int(input(\"how many informed traders ? [enter an integer|0 for none]  \"))\n",
    "if ans1 != 0:\n",
    "    IT = []\n",
    "    for i in range(ans1):\n",
    "        t = Trader(2, 1)\n",
    "        tup = (t.getTrader(), t.getInformed())\n",
    "        IT.append(tup)\n",
    "print()\n",
    "ans2 = int(input(\"how many uninformed buyers ? [enter an integer|0 for none] \"))\n",
    "if ans2 != 0:\n",
    "    UB = []\n",
    "    for i in range(ans2):\n",
    "        t2 = Trader(1, 0)\n",
    "        tup2 = (t2.getTrader(), t2.getInformed())\n",
    "        UB.append(tup2)\n",
    "print()\n",
    "ans3 = int(input(\"how many uninformed sellers ? [enter an integer|0 for none] \"))\n",
    "if ans3 != 0:\n",
    "    US = []\n",
    "    for i in range(ans3):\n",
    "        t3 = Trader(0, 0)\n",
    "        tup3 = (t3.getTrader(), t3.getInformed())\n",
    "        US.append(tup3)\n",
    "print()\n",
    "print(\"enter stock values along with probs\")\n",
    "print()\n",
    "vh = int(input(\"stock high value is: \"))\n",
    "p_h = float(input(\"probability of attaining high value is: \"))\n",
    "vl = int(input(\"stock low value is: \"))\n",
    "p_l = float(input(\"probability of attaining low value is: \"))"
   ]
  },
  {
   "cell_type": "code",
   "execution_count": 24,
   "metadata": {},
   "outputs": [],
   "source": [
    "it = len(IT)\n",
    "u_buy = len(UB)\n",
    "u_sell = len(US)\n",
    "total = it + u_buy + u_sell"
   ]
  },
  {
   "cell_type": "code",
   "execution_count": 25,
   "metadata": {},
   "outputs": [],
   "source": [
    "def expected_buyer(it, ni_b, t, vh, vl, p_h, p_l):\n",
    "    post_vh = ((it+ni_b)/t)*p_h/((((it+ni_b)/t)*p_h) + ((ni_b/t)*p_l))\n",
    "    post_vl = ((ni_b)/t)*p_l/((((it+ni_b)/t)*p_h) + ((ni_b/t)*p_l))\n",
    "    exp = post_vh*vh + post_vl*vl\n",
    "    return (exp, post_vh)\n",
    "\n",
    "def expected_seller(it, ni_s, t, vh, vl, p_h, p_l):\n",
    "    post_vl = ((it+ni_s)/t)*p_l/((((it+ni_s)/t)*p_l) + ((ni_s/t)*p_h))\n",
    "    post_vh = ((ni_s)/t)*p_h/((((it+ni_s)/t)*p_l) + ((ni_s/t)*p_h))\n",
    "    exp = post_vh*vh + post_vl*vl\n",
    "    return (exp, post_vh)"
   ]
  },
  {
   "cell_type": "code",
   "execution_count": 15,
   "metadata": {},
   "outputs": [],
   "source": [
    "ask, post_b = expected_buyer(it, u_buy, total, vh, vl, p_h, p_l)\n",
    "bid, post_s = expected_seller(it, u_sell, total, vh, vl, p_h, p_l)"
   ]
  },
  {
   "cell_type": "code",
   "execution_count": 29,
   "metadata": {},
   "outputs": [
    {
     "name": "stdout",
     "output_type": "stream",
     "text": [
      "ask:  104.0\n",
      "bid:  96.0\n",
      "belief in high value:  0.6\n",
      "\n",
      "=========\n",
      "\n",
      "ask:  107.69230769230771\n",
      "bid:  100.0\n",
      "belief in high value:  0.5\n",
      "\n",
      "=========\n",
      "\n",
      "ask:  104.0\n",
      "bid:  96.0\n",
      "belief in high value:  0.4\n",
      "\n",
      "=========\n",
      "\n",
      "ask:  100.0\n",
      "bid:  92.30769230769232\n",
      "belief in high value:  0.5\n",
      "\n",
      "=========\n",
      "\n"
     ]
    }
   ],
   "source": [
    "sequence = 'BSSB'\n",
    "for i in range(len(sequence)):\n",
    "    if sequence[i] == 'B':\n",
    "        ask, post_b = expected_buyer(it, u_buy, total, vh, vl, p_h, p_l)\n",
    "        bid, post_s = expected_seller(it, u_sell, total, vh, vl, p_h, p_l)\n",
    "        p_h = post_b\n",
    "        p_l = 1 - post_b\n",
    "    elif sequence[i] == 'S':\n",
    "        ask, post_b = expected_buyer(it, u_buy, total, vh, vl, p_h, p_l)\n",
    "        bid, post_s = expected_seller(it, u_sell, total, vh, vl, p_h, p_l)\n",
    "        p_h = post_s\n",
    "        p_l = 1 - post_s\n",
    "    print('ask: ', ask)\n",
    "    print('bid: ', bid)\n",
    "    print('belief in high value: ', p_h)\n",
    "    print()\n",
    "    print('=========')\n",
    "    print()"
   ]
  }
 ],
 "metadata": {
  "kernelspec": {
   "display_name": "Python 3",
   "language": "python",
   "name": "python3"
  },
  "language_info": {
   "codemirror_mode": {
    "name": "ipython",
    "version": 3
   },
   "file_extension": ".py",
   "mimetype": "text/x-python",
   "name": "python",
   "nbconvert_exporter": "python",
   "pygments_lexer": "ipython3",
   "version": "3.7.4"
  }
 },
 "nbformat": 4,
 "nbformat_minor": 4
}
