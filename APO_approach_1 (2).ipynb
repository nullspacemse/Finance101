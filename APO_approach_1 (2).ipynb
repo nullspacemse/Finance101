{
 "cells": [
  {
   "cell_type": "markdown",
   "metadata": {},
   "source": [
    "# American options pricing\n",
    "\n",
    "This approach uses the following general procedure:\n",
    "\n",
    "1. Compute the **expected value** at each node and compare it with the **instrinsic value**. \n",
    "\n",
    "2. The maximum of both those values is the **final intermediate value** at a particular node. \n",
    "\n",
    "3. We then iterative backwards in time to get the value TODAY."
   ]
  },
  {
   "cell_type": "code",
   "execution_count": 1,
   "metadata": {},
   "outputs": [],
   "source": [
    "import numpy as np"
   ]
  },
  {
   "cell_type": "code",
   "execution_count": 2,
   "metadata": {},
   "outputs": [],
   "source": [
    "def APO(ST, K):\n",
    "    if ST < K:\n",
    "        payoff = K - ST\n",
    "    elif ST >= K:\n",
    "        payoff = 0\n",
    "    return payoff"
   ]
  },
  {
   "cell_type": "code",
   "execution_count": 4,
   "metadata": {},
   "outputs": [],
   "source": [
    "def draw_tree(ts, S0):\n",
    "    d1 = {}\n",
    "    d2 = {}\n",
    "    for t in range(ts):\n",
    "        if t == 0:\n",
    "            d1[t] = 1\n",
    "        elif t > 0:\n",
    "            d1[t] = d1[t-1]*2\n",
    "        d2[t] = []\n",
    "\n",
    "    d2[0].append(S0)\n",
    "    \n",
    "    return d1, d2"
   ]
  },
  {
   "cell_type": "code",
   "execution_count": 25,
   "metadata": {},
   "outputs": [],
   "source": [
    "D1, D2 = draw_tree(5, 4)"
   ]
  },
  {
   "cell_type": "code",
   "execution_count": 6,
   "metadata": {},
   "outputs": [
    {
     "data": {
      "text/plain": [
       "{0: 1, 1: 2, 2: 4, 3: 8}"
      ]
     },
     "execution_count": 6,
     "metadata": {},
     "output_type": "execute_result"
    }
   ],
   "source": [
    "D1"
   ]
  },
  {
   "cell_type": "code",
   "execution_count": 7,
   "metadata": {},
   "outputs": [],
   "source": [
    "def simulate_values(ts, D_1, D_2, u, d, K):\n",
    "    for t in range(1, ts):\n",
    "        for i in range(D_1[t-1]):\n",
    "            D_2[t].append(D_2[t-1][i]*u)\n",
    "            D_2[t].append(D_2[t-1][i]*d)\n",
    "            \n",
    "    D_2[len(D_2.keys())-1] = [APO(x, K) for x in D_2[len(D_2.keys())-1]]\n",
    "    return D_2"
   ]
  },
  {
   "cell_type": "code",
   "execution_count": 26,
   "metadata": {},
   "outputs": [],
   "source": [
    "dd2 = simulate_values(5, D1, D2, 2, 0.5, 5)"
   ]
  },
  {
   "cell_type": "code",
   "execution_count": 40,
   "metadata": {},
   "outputs": [
    {
     "data": {
      "text/plain": [
       "{0: [4], 1: [8, 2.0], 2: [0, 1.0, 1.0, 4.0]}"
      ]
     },
     "execution_count": 40,
     "metadata": {},
     "output_type": "execute_result"
    }
   ],
   "source": [
    "dd2"
   ]
  },
  {
   "cell_type": "code",
   "execution_count": 18,
   "metadata": {},
   "outputs": [],
   "source": [
    "def backward_dynamic_AMERICAN(dd, q, r):\n",
    "    h = {}\n",
    "    for t in sorted(list(dd.keys()), reverse=True):\n",
    "        if t == 0:\n",
    "            break\n",
    "\n",
    "        arr = []\n",
    "        for i in range(len(dd[t])):\n",
    "            if i % 2 == 0:\n",
    "                exp = ((q*dd[t][i]) + ((1-q)*dd[t][i+1]))/(1.25)\n",
    "                iv = APO(dd[t-1][i//2], 5)\n",
    "                val = max(exp, iv)\n",
    "                arr.append(round(val, 7))\n",
    "            elif i % 2 != 0:\n",
    "                pass\n",
    "\n",
    "        h[t-1] = arr\n",
    "        dd[t-1] = arr\n",
    "        \n",
    "    return h"
   ]
  },
  {
   "cell_type": "code",
   "execution_count": 13,
   "metadata": {},
   "outputs": [
    {
     "data": {
      "text/plain": [
       "1.392"
      ]
     },
     "execution_count": 13,
     "metadata": {},
     "output_type": "execute_result"
    }
   ],
   "source": [
    "((1/2)*(0.48))/(1.25) + ((1/2)*(3))/(1.25)"
   ]
  },
  {
   "cell_type": "code",
   "execution_count": 27,
   "metadata": {},
   "outputs": [],
   "source": [
    "prices = backward_dynamic_AMERICAN(dd2, 0.5, 0.25)\n",
    "#prices"
   ]
  },
  {
   "cell_type": "code",
   "execution_count": 28,
   "metadata": {},
   "outputs": [
    {
     "name": "stdout",
     "output_type": "stream",
     "text": [
      "price of the APO is:  [1.4432]\n"
     ]
    }
   ],
   "source": [
    "# extract price\n",
    "\n",
    "print(\"price of the APO is: \", prices[0])"
   ]
  },
  {
   "cell_type": "code",
   "execution_count": null,
   "metadata": {},
   "outputs": [],
   "source": []
  }
 ],
 "metadata": {
  "kernelspec": {
   "display_name": "Python 3",
   "language": "python",
   "name": "python3"
  },
  "language_info": {
   "codemirror_mode": {
    "name": "ipython",
    "version": 3
   },
   "file_extension": ".py",
   "mimetype": "text/x-python",
   "name": "python",
   "nbconvert_exporter": "python",
   "pygments_lexer": "ipython3",
   "version": "3.7.4"
  }
 },
 "nbformat": 4,
 "nbformat_minor": 4
}
