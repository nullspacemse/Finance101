{
 "cells": [
  {
   "cell_type": "markdown",
   "metadata": {},
   "source": [
    "# N-state and N-step Discrete Pricing\n",
    "\n",
    "This program is completely generalizable - in the sense that one can enter number of states and number of time steps to get a holistic pricing model using the backward expectations iteration."
   ]
  },
  {
   "cell_type": "code",
   "execution_count": 1,
   "metadata": {},
   "outputs": [],
   "source": [
    "import numpy as np"
   ]
  },
  {
   "cell_type": "code",
   "execution_count": 2,
   "metadata": {},
   "outputs": [],
   "source": [
    "# define the call option payoff\n",
    "\n",
    "def call_option(ST, K):\n",
    "    if ST > K:\n",
    "        payoff = ST - K\n",
    "    elif ST <= K:\n",
    "        payoff = 0\n",
    "    return payoff"
   ]
  },
  {
   "cell_type": "code",
   "execution_count": 167,
   "metadata": {},
   "outputs": [],
   "source": [
    "# a mapping of the state space - a randomized function generates values for the states.\n",
    "\n",
    "# the user has to choose a value for 'n'\n",
    "\n",
    "n = 3\n",
    "N = {}\n",
    "for i in range(n):\n",
    "    N[i] = np.round(abs(np.random.normal(2, 2)), 2)"
   ]
  },
  {
   "cell_type": "code",
   "execution_count": 168,
   "metadata": {},
   "outputs": [
    {
     "data": {
      "text/plain": [
       "{0: 1.75, 1: 0.18, 2: 3.98}"
      ]
     },
     "execution_count": 168,
     "metadata": {},
     "output_type": "execute_result"
    }
   ],
   "source": [
    "# this is the state space - the possible movements are denoted by 'keys'\n",
    "# and the possible values are the 'values'\n",
    "\n",
    "N"
   ]
  },
  {
   "cell_type": "code",
   "execution_count": 169,
   "metadata": {},
   "outputs": [],
   "source": [
    "# this function generates a probability distribution over the states\n",
    "# this is constructed so that the sum of all state probs is 1\n",
    "\n",
    "P = {}\n",
    "l = []\n",
    "for i in range(n):\n",
    "    l.append(np.round(abs(np.random.random(1)[0]), 3))\n",
    "    \n",
    "s = sum(l)\n",
    "for j in range(len(l)):\n",
    "    P[j] = np.round(l[j]/s, 2)"
   ]
  },
  {
   "cell_type": "code",
   "execution_count": 170,
   "metadata": {},
   "outputs": [
    {
     "data": {
      "text/plain": [
       "{0: 0.45, 1: 0.3, 2: 0.26}"
      ]
     },
     "execution_count": 170,
     "metadata": {},
     "output_type": "execute_result"
    }
   ],
   "source": [
    "P"
   ]
  },
  {
   "cell_type": "code",
   "execution_count": 171,
   "metadata": {},
   "outputs": [],
   "source": [
    "# we draw the tree here - multiplying each node with 'n' \n",
    "# to generate successive nodes\n",
    "\n",
    "def draw_tree(ts, S0, n):\n",
    "    d1 = {}\n",
    "    d2 = {}\n",
    "    for t in range(ts):\n",
    "        if t == 0:\n",
    "            d1[t] = 1\n",
    "        elif t > 0:\n",
    "            d1[t] = d1[t-1]*n\n",
    "        d2[t] = []\n",
    "\n",
    "    d2[0].append(S0)\n",
    "    \n",
    "    return d1, d2"
   ]
  },
  {
   "cell_type": "code",
   "execution_count": 172,
   "metadata": {},
   "outputs": [
    {
     "data": {
      "text/plain": [
       "{0: 1, 1: 3, 2: 9}"
      ]
     },
     "execution_count": 172,
     "metadata": {},
     "output_type": "execute_result"
    }
   ],
   "source": [
    "# arguments of this function call are:\n",
    "# (time_step, today_stock_price, n_states)\n",
    "\n",
    "D1, D2 = draw_tree(3, 100, n)\n",
    "D1"
   ]
  },
  {
   "cell_type": "code",
   "execution_count": 174,
   "metadata": {},
   "outputs": [],
   "source": [
    "# simulating the values here - at each node multipying by \n",
    "# the state value and putting option payoffs in the last step\n",
    "\n",
    "def simulate_values(ts, D_1, D_2, K, NN):\n",
    "    for t in range(1, ts):\n",
    "        for i in range(D_1[t-1]):\n",
    "            for k in NN.keys():\n",
    "                D_2[t].append(np.round(D_2[t-1][i]*NN[k], 2))\n",
    "            \n",
    "    D_2[len(D_2.keys())-1] = [np.round(call_option(x, K), 2) for x in D_2[len(D_2.keys())-1]]\n",
    "    return D_2"
   ]
  },
  {
   "cell_type": "code",
   "execution_count": 175,
   "metadata": {},
   "outputs": [],
   "source": [
    "# the 91 argument is merely the strike price -\n",
    "# which the user can enter at will\n",
    "\n",
    "DD2 = simulate_values(3, D1, D2, 91, N)"
   ]
  },
  {
   "cell_type": "code",
   "execution_count": 176,
   "metadata": {},
   "outputs": [
    {
     "data": {
      "text/plain": [
       "{0: [100],\n",
       " 1: [175.0, 18.0, 398.0],\n",
       " 2: [215.25, 0, 605.5, 0, 0, 0, 605.5, 0, 1493.04]}"
      ]
     },
     "execution_count": 176,
     "metadata": {},
     "output_type": "execute_result"
    }
   ],
   "source": [
    "DD2"
   ]
  },
  {
   "cell_type": "code",
   "execution_count": 177,
   "metadata": {},
   "outputs": [],
   "source": [
    "# in this fucntion - we compute the backward iteration expectations\n",
    "# note that expectations are computed using the dot product\n",
    "# of the state probability vector and the node values\n",
    "\n",
    "def backward_dynamic(dd, Q, n, r):\n",
    "    h = {}\n",
    "    probs = np.array(list(Q.values()))\n",
    "    for t in sorted(list(dd.keys()), reverse=True):\n",
    "        if t == 0:\n",
    "            break\n",
    "\n",
    "        arr = []\n",
    "        for i in range(len(dd[t])):\n",
    "            if i % n == 0:\n",
    "                a = np.array(dd[t][i:i+n])\n",
    "                E = np.exp(r)*(probs.dot(a))\n",
    "                arr.append(round(E, 2))\n",
    "            elif i % n != 0:\n",
    "                pass\n",
    "\n",
    "        h[t-1] = arr\n",
    "        dd[t-1] = arr\n",
    "        \n",
    "    return h"
   ]
  },
  {
   "cell_type": "code",
   "execution_count": 178,
   "metadata": {},
   "outputs": [
    {
     "data": {
      "text/plain": [
       "{1: [254.29, 0.0, 660.67], 0: [286.2]}"
      ]
     },
     "execution_count": 178,
     "metadata": {},
     "output_type": "execute_result"
    }
   ],
   "source": [
    "OP = backward_dynamic(DD2, P, n, 0)\n",
    "OP"
   ]
  },
  {
   "cell_type": "code",
   "execution_count": null,
   "metadata": {},
   "outputs": [],
   "source": []
  },
  {
   "cell_type": "code",
   "execution_count": null,
   "metadata": {},
   "outputs": [],
   "source": []
  }
 ],
 "metadata": {
  "kernelspec": {
   "display_name": "Python 3",
   "language": "python",
   "name": "python3"
  },
  "language_info": {
   "codemirror_mode": {
    "name": "ipython",
    "version": 3
   },
   "file_extension": ".py",
   "mimetype": "text/x-python",
   "name": "python",
   "nbconvert_exporter": "python",
   "pygments_lexer": "ipython3",
   "version": "3.7.4"
  }
 },
 "nbformat": 4,
 "nbformat_minor": 4
}
