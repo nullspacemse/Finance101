{
 "cells": [
  {
   "cell_type": "markdown",
   "metadata": {},
   "source": [
    "# N period Binomial model\n",
    "## Backward Dynamic Programming\n",
    "\n",
    "- enter a stock price today\n",
    "\n",
    "- enter u, d, r, K - model parameters\n",
    "\n",
    "- trace out the tree - iterate such that at each up and down from the previous step - we have an up and down in the next step. So at each time step - we have double the amount of nodes.\n",
    "\n",
    "- after tracing out the path of the stock based on U and D - we calclate the option payoffs at the last time step. \n",
    "\n",
    "- we then run a backward program - iterating in the reverse direction from the last time step at each successive iteration then, we take the expectation with respect to RNP"
   ]
  },
  {
   "cell_type": "code",
   "execution_count": 3,
   "metadata": {},
   "outputs": [],
   "source": [
    "import numpy as np"
   ]
  },
  {
   "cell_type": "code",
   "execution_count": 187,
   "metadata": {},
   "outputs": [
    {
     "name": "stdout",
     "output_type": "stream",
     "text": [
      "===\n",
      "Enter your model parameters: \n",
      "===\n",
      "\n"
     ]
    },
    {
     "name": "stdin",
     "output_type": "stream",
     "text": [
      "enter today's stock price:  100\n"
     ]
    },
    {
     "name": "stdout",
     "output_type": "stream",
     "text": [
      "\n"
     ]
    },
    {
     "name": "stdin",
     "output_type": "stream",
     "text": [
      "enter the call option strike price:  91\n"
     ]
    },
    {
     "name": "stdout",
     "output_type": "stream",
     "text": [
      "\n"
     ]
    },
    {
     "name": "stdin",
     "output_type": "stream",
     "text": [
      "enter the number of time period (n period binomial model):  10\n"
     ]
    },
    {
     "name": "stdout",
     "output_type": "stream",
     "text": [
      "\n"
     ]
    },
    {
     "name": "stdin",
     "output_type": "stream",
     "text": [
      "enter the stock UP ratio:  2\n"
     ]
    },
    {
     "name": "stdout",
     "output_type": "stream",
     "text": [
      "\n"
     ]
    },
    {
     "name": "stdin",
     "output_type": "stream",
     "text": [
      "enter the stock DOWN ratio:  0.5\n"
     ]
    },
    {
     "name": "stdout",
     "output_type": "stream",
     "text": [
      "\n"
     ]
    },
    {
     "name": "stdin",
     "output_type": "stream",
     "text": [
      "enter the risk free rate:  0\n"
     ]
    },
    {
     "name": "stdout",
     "output_type": "stream",
     "text": [
      "\n",
      "\n",
      "\n",
      "YOUR MODEL PARAMETERS ARE: (S0: 100, K: 91, timestep: 10, up: 2.0, down: 0.5, rf: 0)\n",
      "\n",
      "the RISK NEUTRAL probability for UP is:  0.3333333333333333\n"
     ]
    }
   ],
   "source": [
    "# a set of print commands that let the user enter his/her MODEL PARAMETERS\n",
    "\n",
    "print(\"===\")\n",
    "print(\"Enter your model parameters: \")\n",
    "print(\"===\")\n",
    "print()\n",
    "S0 = int(input(\"enter today's stock price: \"))\n",
    "print()\n",
    "K = int(input(\"enter the call option strike price: \"))\n",
    "print()\n",
    "t = int(input(\"enter the number of time period (n period binomial model): \"))\n",
    "ts = t+1\n",
    "print()\n",
    "u = float(input(\"enter the stock UP ratio: \"))\n",
    "print()\n",
    "d = float(input(\"enter the stock DOWN ratio: \"))\n",
    "print()\n",
    "r = int(input(\"enter the risk free rate: \"))\n",
    "print()\n",
    "print()\n",
    "print()\n",
    "print(\"YOUR MODEL PARAMETERS ARE: (S0: {}, K: {}, timestep: {}, up: {}, down: {}, rf: {})\".format(\n",
    "      S0, K, t, u, d, r))\n",
    "\n",
    "q = (np.exp(r) - d)/(u-d)\n",
    "print()\n",
    "print(\"the RISK NEUTRAL probability for UP is: \", q)"
   ]
  },
  {
   "cell_type": "code",
   "execution_count": 1,
   "metadata": {},
   "outputs": [],
   "source": [
    "# this function defines the call option payoff and returns it\n",
    "\n",
    "def call_option(ST, K):\n",
    "    if ST > K:\n",
    "        payoff = ST - K\n",
    "    elif ST <= K:\n",
    "        payoff = 0\n",
    "    return payoff"
   ]
  },
  {
   "cell_type": "code",
   "execution_count": 4,
   "metadata": {},
   "outputs": [],
   "source": [
    "# simulate the tree and number of nodes in each time step\n",
    "\n",
    "def draw_tree(ts, S0):\n",
    "    d1 = {}\n",
    "    d2 = {}\n",
    "    for t in range(ts):\n",
    "        if t == 0:\n",
    "            d1[t] = 1\n",
    "        elif t > 0:\n",
    "            d1[t] = d1[t-1]*2\n",
    "        d2[t] = []\n",
    "\n",
    "    d2[0].append(S0)\n",
    "    \n",
    "    return d1, d2"
   ]
  },
  {
   "cell_type": "code",
   "execution_count": 5,
   "metadata": {},
   "outputs": [
    {
     "data": {
      "text/plain": [
       "{0: 1, 1: 2, 2: 4}"
      ]
     },
     "execution_count": 5,
     "metadata": {},
     "output_type": "execute_result"
    }
   ],
   "source": [
    "D1, D2 = draw_tree(3, 100)\n",
    "D1"
   ]
  },
  {
   "cell_type": "code",
   "execution_count": 6,
   "metadata": {},
   "outputs": [],
   "source": [
    "# simulate the stock values of u and d movements at each time step - tracing out the path\n",
    "\n",
    "def simulate_values(ts, D_1, D_2, u, d, K):\n",
    "    for t in range(1, ts):\n",
    "        for i in range(D_1[t-1]):\n",
    "            D_2[t].append(D_2[t-1][i]*u)\n",
    "            D_2[t].append(D_2[t-1][i]*d)\n",
    "            \n",
    "    D_2[len(D_2.keys())-1] = [call_option(x, K) for x in D_2[len(D_2.keys())-1]]\n",
    "    return D_2"
   ]
  },
  {
   "cell_type": "code",
   "execution_count": 7,
   "metadata": {},
   "outputs": [],
   "source": [
    "DD2 = simulate_values(3, D1, D2, 2, 0.5, 91)"
   ]
  },
  {
   "cell_type": "code",
   "execution_count": 8,
   "metadata": {},
   "outputs": [
    {
     "data": {
      "text/plain": [
       "{0: [100], 1: [200, 50.0], 2: [309, 9.0, 9.0, 0]}"
      ]
     },
     "execution_count": 8,
     "metadata": {},
     "output_type": "execute_result"
    }
   ],
   "source": [
    "DD2"
   ]
  },
  {
   "cell_type": "code",
   "execution_count": null,
   "metadata": {},
   "outputs": [],
   "source": []
  },
  {
   "cell_type": "code",
   "execution_count": 9,
   "metadata": {},
   "outputs": [],
   "source": [
    "# calculate the option payoff at each step in reverse\n",
    "\n",
    "def backward_dynamic(dd, q):\n",
    "    h = {}\n",
    "    for t in sorted(list(dd.keys()), reverse=True):\n",
    "        if t == 0:\n",
    "            break\n",
    "\n",
    "        arr = []\n",
    "        for i in range(len(dd[t])):\n",
    "            if i % 2 == 0:\n",
    "                exp = np.exp(0)*(q*dd[t][i]) + ((1-q)*dd[t][i+1])\n",
    "                arr.append(round(exp, 2))\n",
    "            elif i % 2 != 0:\n",
    "                pass\n",
    "\n",
    "        h[t-1] = arr\n",
    "        dd[t-1] = arr\n",
    "        \n",
    "    return h"
   ]
  },
  {
   "cell_type": "code",
   "execution_count": 10,
   "metadata": {},
   "outputs": [],
   "source": [
    "OP = backward_dynamic(DD2, 0.33)"
   ]
  },
  {
   "cell_type": "code",
   "execution_count": 11,
   "metadata": {},
   "outputs": [
    {
     "data": {
      "text/plain": [
       "{1: [108.0, 2.97], 0: [37.63]}"
      ]
     },
     "execution_count": 11,
     "metadata": {},
     "output_type": "execute_result"
    }
   ],
   "source": [
    "OP"
   ]
  },
  {
   "cell_type": "code",
   "execution_count": 12,
   "metadata": {},
   "outputs": [
    {
     "name": "stdout",
     "output_type": "stream",
     "text": [
      "the option price TODAY is:  [37.63]\n"
     ]
    }
   ],
   "source": [
    "print(\"the option price TODAY is: \", OP[0])"
   ]
  },
  {
   "cell_type": "code",
   "execution_count": 13,
   "metadata": {},
   "outputs": [
    {
     "data": {
      "text/plain": [
       "[37.63]"
      ]
     },
     "execution_count": 13,
     "metadata": {},
     "output_type": "execute_result"
    }
   ],
   "source": [
    "OP[0]"
   ]
  },
  {
   "cell_type": "code",
   "execution_count": null,
   "metadata": {},
   "outputs": [],
   "source": []
  }
 ],
 "metadata": {
  "kernelspec": {
   "display_name": "Python 3",
   "language": "python",
   "name": "python3"
  },
  "language_info": {
   "codemirror_mode": {
    "name": "ipython",
    "version": 3
   },
   "file_extension": ".py",
   "mimetype": "text/x-python",
   "name": "python",
   "nbconvert_exporter": "python",
   "pygments_lexer": "ipython3",
   "version": "3.7.4"
  }
 },
 "nbformat": 4,
 "nbformat_minor": 4
}
