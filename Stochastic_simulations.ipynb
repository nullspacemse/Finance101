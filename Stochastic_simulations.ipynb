{
 "cells": [
  {
   "cell_type": "markdown",
   "metadata": {},
   "source": [
    "# Stochastic Processes: Wiener Process Simulation\n",
    "\n",
    "***Null Space - PGDM Analytics and Research Cell***\n",
    "\n",
    "*This project is about using the Wiener process (Geometric Brownian motion) to simulate Google's daily stock prices and compare them to actual values. The Drift and Variance rates are calculated and the associated plots are also shown.*\n",
    "\n",
    "\n",
    "# Building the Theory for the Wiener process\n",
    "\n",
    "The Wiener process is a kind of Markov stochastic process with a mean change of $0$ and variance of $1$ per year. This is commonly referred to as **Brownian motion**. A variable $z$ follows a Wiener process if the following properties hold:\n",
    "\n",
    "1. The change $\\Delta z$ during a small period of time $\\Delta t$ is given by following, where $\\epsilon$ follows a standard normal distribution $\\phi(0,1)$.\n",
    "\n",
    "$$\\Delta z = \\epsilon \\sqrt{\\Delta t}$$\n",
    "\n",
    "2. The value of $\\Delta z$ for any two different short intervals of time $\\Delta t$ are independent. \n",
    "\n",
    "3. We say that $\\Delta z$ has a normal distribution with: Mean of $\\Delta z = 0$. Variance of $\\Delta z = \\Delta t$. Standard deviation of $\\Delta z = \\sqrt{\\Delta t}$. \n",
    "\n",
    "Now we consider a change in value of $z$ over a long time period $T$. This can be denoted as $z(T) - z(0)$. This could be thought of as the sum of changes in $z$ over $N$ small time intervals $\\Delta t$ such that:\n",
    "\n",
    "$$N = \\dfrac{T}{\\Delta t}$$\n",
    "\n",
    "$$z(T) - z(0) = \\sum_{i=1}^{N}\\epsilon_i\\sqrt{\\Delta t}$$\n",
    "\n",
    "Mean of $[z(T) - z(0)] = 0$. Variance of $[z(T) - z(0)] = N\\Delta t = T$. Standard deviation of $[z(T) - z(0)] = \\sqrt{T}$. We therefore refer to $\\Delta z$ as a Wiener process\n",
    "\n",
    "## Generalized Wiener process\n",
    "\n",
    "The mean change for a stochastic process per unit time is called the **drift rate** and the variance per unit time is called the **variance rate**. So far the Wiener process $dz$ we have seen above has a drift rate of $0$ and variance rate of $1$. The drift rate of $0$ implies that the expected future value of $z$ at any future time is equal to its current value. Variance rate of $1$ implies that the variance of change in $z$ in an interval of length $T$ is $T$. A generalized Wiener process for variable $x$ can be defined in terms of $dz$ as follows:\n",
    "\n",
    "$$dx = adt + bdz$$\n",
    "\n",
    "Therefore in a small time interval $\\Delta t$ the change $\\Delta x$ in $x$ is given by:\n",
    "\n",
    "$$\\Delta x = a\\Delta t + b\\epsilon \\sqrt{\\Delta t}$$\n",
    "\n",
    "As before, the $\\epsilon$ terms are distributed standard normally. We say that $\\Delta x$ follows a normal distribution with: Mean of $\\Delta x = a\\Delta t$. Variance of $\\Delta x = b^2\\Delta t$. Standard deviation of $\\Delta x = b\\sqrt{\\Delta t}$. And on a similar note, the change in variable $x$ over a time interval $T$ would then be: Mean of change in $x = aT$. Variance of change in $x = b^2T$. Standard deviation of change in $x = b\\sqrt{T}$. Basically we say that a **generalized Wiener process has a drift rate of $a$ and a variance rate of $b^2$ per unit time**.\n",
    "\n",
    "## Modeling stock prices\n",
    "\n",
    "$S_0$ and $S_T$ are the stock prices at time $0$ and $T$ respectively. An assumption is that the variability of percentage return in a short span of time $\\Delta t$ is the same irrespective of the stock price. With this we get the following relation:\n",
    "\n",
    "$$dS = \\mu S dt + \\sigma S dz$$\n",
    "\n",
    "$$\\dfrac{dS}{S} = \\mu dt + \\sigma dz$$\n",
    "\n",
    "Where $\\mu$ is the expected stock return and $\\sigma$ is the volatility of the stock price. \n",
    "\n",
    "&nbsp;\n",
    "\n",
    "# A Toy program\n",
    "\n",
    "This toy program basically simulates a generalized Wiener process plot with a constant drift rate of $0.3$ and a variance rate of $1.5$. The $\\epsilon$ values are randomly generated from a **standard normal distribution** and iteratively, the time intervals are increased. With each iteration, the change in the $x$ variable is computed. \n",
    "\n",
    "&nbsp;"
   ]
  },
  {
   "cell_type": "code",
   "execution_count": 35,
   "metadata": {},
   "outputs": [],
   "source": [
    "import numpy as np\n",
    "import pandas as pd\n",
    "import matplotlib.pyplot as plt\n",
    "%matplotlib inline\n",
    "plt.style.use('seaborn-whitegrid')\n",
    "from scipy.stats import norm"
   ]
  },
  {
   "cell_type": "code",
   "execution_count": 36,
   "metadata": {},
   "outputs": [],
   "source": [
    "a = 0.3\n",
    "b = 1.5"
   ]
  },
  {
   "cell_type": "code",
   "execution_count": 38,
   "metadata": {},
   "outputs": [],
   "source": [
    "dX = {}\n",
    "X = {}\n",
    "X[0] = 10\n",
    "trend = {}\n",
    "wiener = {}\n",
    "for i in range(2, 12):\n",
    "    dX[i-1] = a*(i-1) + b*(np.random.normal(0, 1)*np.sqrt(i-1))\n",
    "    X[i-1] = X[0] + dX[i-1]\n",
    "    trend[i-1] = a*(i-1)\n",
    "    wiener[i-1] = b*(np.random.normal(0, 1)*np.sqrt(i-1))"
   ]
  },
  {
   "cell_type": "code",
   "execution_count": 39,
   "metadata": {},
   "outputs": [
    {
     "data": {
      "text/plain": [
       "{0: 10,\n",
       " 1: 9.768459023550257,\n",
       " 2: 10.394844205501553,\n",
       " 3: 7.828202766277127,\n",
       " 4: 13.408516224777856,\n",
       " 5: 12.991460143923561,\n",
       " 6: 11.32979980888965,\n",
       " 7: 10.594314096648773,\n",
       " 8: 17.795307845472458,\n",
       " 9: 14.18892534933741,\n",
       " 10: 14.164123467877047}"
      ]
     },
     "execution_count": 39,
     "metadata": {},
     "output_type": "execute_result"
    }
   ],
   "source": [
    "X"
   ]
  },
  {
   "cell_type": "code",
   "execution_count": 40,
   "metadata": {},
   "outputs": [
    {
     "data": {
      "text/plain": [
       "{1: -0.23154097644974275,\n",
       " 2: 0.3948442055015525,\n",
       " 3: -2.171797233722873,\n",
       " 4: 3.4085162247778564,\n",
       " 5: 2.99146014392356,\n",
       " 6: 1.3297998088896492,\n",
       " 7: 0.5943140966487723,\n",
       " 8: 7.795307845472458,\n",
       " 9: 4.188925349337409,\n",
       " 10: 4.164123467877047}"
      ]
     },
     "execution_count": 40,
     "metadata": {},
     "output_type": "execute_result"
    }
   ],
   "source": [
    "dX"
   ]
  },
  {
   "cell_type": "code",
   "execution_count": 41,
   "metadata": {},
   "outputs": [
    {
     "data": {
      "text/plain": [
       "{1: 0.3,\n",
       " 2: 0.6,\n",
       " 3: 0.8999999999999999,\n",
       " 4: 1.2,\n",
       " 5: 1.5,\n",
       " 6: 1.7999999999999998,\n",
       " 7: 2.1,\n",
       " 8: 2.4,\n",
       " 9: 2.6999999999999997,\n",
       " 10: 3.0}"
      ]
     },
     "execution_count": 41,
     "metadata": {},
     "output_type": "execute_result"
    }
   ],
   "source": [
    "trend"
   ]
  },
  {
   "cell_type": "code",
   "execution_count": 42,
   "metadata": {},
   "outputs": [
    {
     "data": {
      "text/plain": [
       "{1: 0.056812769108584626,\n",
       " 2: -2.4171065668255984,\n",
       " 3: -1.7872551202271423,\n",
       " 4: 5.4315785393868845,\n",
       " 5: -0.5701033388263694,\n",
       " 6: 0.804668312402453,\n",
       " 7: -4.145090063803023,\n",
       " 8: -4.68511153745596,\n",
       " 9: 4.032845588476683,\n",
       " 10: 4.04241999570019}"
      ]
     },
     "execution_count": 42,
     "metadata": {},
     "output_type": "execute_result"
    }
   ],
   "source": [
    "wiener"
   ]
  },
  {
   "cell_type": "code",
   "execution_count": 47,
   "metadata": {},
   "outputs": [
    {
     "data": {
      "text/plain": [
       "<matplotlib.legend.Legend at 0x1a1a7613d0>"
      ]
     },
     "execution_count": 47,
     "metadata": {},
     "output_type": "execute_result"
    },
    {
     "data": {
      "image/png": "[encoded data removed]",
      "text/plain": [
       "<Figure size 504x504 with 1 Axes>"
      ]
     },
     "metadata": {},
     "output_type": "display_data"
    }
   ],
   "source": [
    "plt.figure(figsize=(7, 7))\n",
    "plt.plot(list(trend.keys()), list(trend.values()),'r', label='drift')\n",
    "plt.plot(list(wiener.keys()), list(wiener.values()), 'b', label='wiener dz')\n",
    "plt.plot(list(dX.keys()), list(dX.values()), 'g', label='generalized wiener')\n",
    "plt.legend(loc='upper left')"
   ]
  },
  {
   "cell_type": "markdown",
   "metadata": {},
   "source": [
    "&nbsp;\n",
    "\n",
    "# Application: Predicting Google stock price\n",
    "\n",
    "The idea is to use the **Geometric Brownian motion** concepts to model Google's stock price and see how the predicted daily price compares with the actual prices observed. Here are the steps followed:\n",
    "\n",
    "1. We first import Google's price data from **Yahoo Finance website** from $2004$ till $2019$. \n",
    "\n",
    "2. We then compute the year wise percent change in prices which would give us an **estimate of the annual returns** on Google's stock.\n",
    "\n",
    "3. The annual returns so obtained are then **averaged out** to obtain the **constant drift** term $\\mu$. \n",
    "\n",
    "4. Similarly, the annual **standard deviation** is also calculated to get the **constant variance rate** term $\\sigma$. \n",
    "\n",
    "5. We then apply the the following model to predict daily changes in Google's stock price. \n",
    "\n",
    "$$dS = \\mu S dt + \\sigma S dz$$\n",
    "\n",
    "6. After initializing a stock price $S_0$ we iteratively keep on adding the stock price changes predicted by the Geometric Brownian motion model and then compare the results with actual values (corresponding to the appropriate time period).\n",
    "\n",
    "&nbsp;"
   ]
  },
  {
   "cell_type": "code",
   "execution_count": 64,
   "metadata": {},
   "outputs": [
    {
     "data": {
      "text/html": [
       "<div>\n",
       "<style scoped>\n",
       "    .dataframe tbody tr th:only-of-type {\n",
       "        vertical-align: middle;\n",
       "    }\n",
       "\n",
       "    .dataframe tbody tr th {\n",
       "        vertical-align: top;\n",
       "    }\n",
       "\n",
       "    .dataframe thead th {\n",
       "        text-align: right;\n",
       "    }\n",
       "</style>\n",
       "<table border=\"1\" class=\"dataframe\">\n",
       "  <thead>\n",
       "    <tr style=\"text-align: right;\">\n",
       "      <th></th>\n",
       "      <th>High</th>\n",
       "      <th>Low</th>\n",
       "      <th>Open</th>\n",
       "      <th>Close</th>\n",
       "      <th>Volume</th>\n",
       "      <th>Adj Close</th>\n",
       "    </tr>\n",
       "    <tr>\n",
       "      <th>Date</th>\n",
       "      <th></th>\n",
       "      <th></th>\n",
       "      <th></th>\n",
       "      <th></th>\n",
       "      <th></th>\n",
       "      <th></th>\n",
       "    </tr>\n",
       "  </thead>\n",
       "  <tbody>\n",
       "    <tr>\n",
       "      <td>2004-08-19</td>\n",
       "      <td>51.835709</td>\n",
       "      <td>47.800831</td>\n",
       "      <td>49.813286</td>\n",
       "      <td>49.982655</td>\n",
       "      <td>44871300.0</td>\n",
       "      <td>49.982655</td>\n",
       "    </tr>\n",
       "    <tr>\n",
       "      <td>2004-08-20</td>\n",
       "      <td>54.336334</td>\n",
       "      <td>50.062355</td>\n",
       "      <td>50.316402</td>\n",
       "      <td>53.952770</td>\n",
       "      <td>22942800.0</td>\n",
       "      <td>53.952770</td>\n",
       "    </tr>\n",
       "    <tr>\n",
       "      <td>2004-08-23</td>\n",
       "      <td>56.528118</td>\n",
       "      <td>54.321388</td>\n",
       "      <td>55.168217</td>\n",
       "      <td>54.495735</td>\n",
       "      <td>18342800.0</td>\n",
       "      <td>54.495735</td>\n",
       "    </tr>\n",
       "    <tr>\n",
       "      <td>2004-08-24</td>\n",
       "      <td>55.591629</td>\n",
       "      <td>51.591621</td>\n",
       "      <td>55.412300</td>\n",
       "      <td>52.239193</td>\n",
       "      <td>15319700.0</td>\n",
       "      <td>52.239193</td>\n",
       "    </tr>\n",
       "    <tr>\n",
       "      <td>2004-08-25</td>\n",
       "      <td>53.798351</td>\n",
       "      <td>51.746044</td>\n",
       "      <td>52.284027</td>\n",
       "      <td>52.802086</td>\n",
       "      <td>9232100.0</td>\n",
       "      <td>52.802086</td>\n",
       "    </tr>\n",
       "  </tbody>\n",
       "</table>\n",
       "</div>"
      ],
      "text/plain": [
       "                 High        Low       Open      Close      Volume  Adj Close\n",
       "Date                                                                         \n",
       "2004-08-19  51.835709  47.800831  49.813286  49.982655  44871300.0  49.982655\n",
       "2004-08-20  54.336334  50.062355  50.316402  53.952770  22942800.0  53.952770\n",
       "2004-08-23  56.528118  54.321388  55.168217  54.495735  18342800.0  54.495735\n",
       "2004-08-24  55.591629  51.591621  55.412300  52.239193  15319700.0  52.239193\n",
       "2004-08-25  53.798351  51.746044  52.284027  52.802086   9232100.0  52.802086"
      ]
     },
     "execution_count": 64,
     "metadata": {},
     "output_type": "execute_result"
    }
   ],
   "source": [
    "from pandas_datareader import data\n",
    "\n",
    "goog = data.DataReader('GOOG', start=2004, end=2020, data_source='yahoo')\n",
    "goog.head()"
   ]
  },
  {
   "cell_type": "markdown",
   "metadata": {},
   "source": [
    "&nbsp;\n",
    "\n",
    "- This code block extracts the **Adjacent Close** price for the Google stock Data.\n",
    "\n",
    "&nbsp;"
   ]
  },
  {
   "cell_type": "code",
   "execution_count": 147,
   "metadata": {},
   "outputs": [
    {
     "data": {
      "text/plain": [
       "Date\n",
       "2004-08-19      49.982655\n",
       "2004-08-20      53.952770\n",
       "2004-08-23      54.495735\n",
       "2004-08-24      52.239193\n",
       "2004-08-25      52.802086\n",
       "                 ...     \n",
       "2019-12-24    1343.560059\n",
       "2019-12-26    1360.400024\n",
       "2019-12-27    1351.890015\n",
       "2019-12-30    1336.140015\n",
       "2019-12-31    1337.020020\n",
       "Name: Adj Close, Length: 3869, dtype: float64"
      ]
     },
     "execution_count": 147,
     "metadata": {},
     "output_type": "execute_result"
    }
   ],
   "source": [
    "df_g = goog['Adj Close']\n",
    "df_g"
   ]
  },
  {
   "cell_type": "markdown",
   "metadata": {},
   "source": [
    "&nbsp;\n",
    "\n",
    "- In the following code block we obtain the **business year end prices** for each year, with the help of which we can compute the annual returns.\n",
    "\n",
    "&nbsp;"
   ]
  },
  {
   "cell_type": "code",
   "execution_count": 74,
   "metadata": {},
   "outputs": [],
   "source": [
    "df = pd.Series(df_g, index = pd.date_range('19/8/2004', '31/12/2019', freq='BA'))"
   ]
  },
  {
   "cell_type": "markdown",
   "metadata": {},
   "source": [
    "&nbsp;\n",
    "\n",
    "- In the following $2$ code blocks we are calculating the **average annual returns** and the **standard deviation** of the annual returns and storing them in variables $\\mu$ and $\\sigma$ respectively. And we are taking our initial (current value) price which is our $S_0$.\n",
    "\n",
    "&nbsp;"
   ]
  },
  {
   "cell_type": "code",
   "execution_count": 148,
   "metadata": {},
   "outputs": [
    {
     "data": {
      "text/plain": [
       "(0.2658716789177214, 0.4344692228009562)"
      ]
     },
     "execution_count": 148,
     "metadata": {},
     "output_type": "execute_result"
    }
   ],
   "source": [
    "mu = df.pct_change().mean()\n",
    "sigma = df.pct_change().std()\n",
    "mu, sigma"
   ]
  },
  {
   "cell_type": "code",
   "execution_count": 149,
   "metadata": {},
   "outputs": [
    {
     "data": {
      "text/plain": [
       "1121.3699951171875"
      ]
     },
     "execution_count": 149,
     "metadata": {},
     "output_type": "execute_result"
    }
   ],
   "source": [
    "S_0 = df_g.loc['2/12/2019']\n",
    "S_0"
   ]
  },
  {
   "cell_type": "code",
   "execution_count": 150,
   "metadata": {},
   "outputs": [],
   "source": [
    "dat1 = df_g.loc['2/12/2019': ]"
   ]
  },
  {
   "cell_type": "markdown",
   "metadata": {},
   "source": [
    "&nbsp;\n",
    "\n",
    "- In the code block below we run the **Wiener process model** to generate $101$ instances of Google's **daily stock price changes**. The changes are iteratively added to the initial $S_0$ which gives us the **predicted daily prices**. Consequently, a **Wiener process plot is also shown**.\n",
    "\n",
    "&nbsp;"
   ]
  },
  {
   "cell_type": "code",
   "execution_count": 117,
   "metadata": {},
   "outputs": [],
   "source": [
    "dS = {}\n",
    "S = {}\n",
    "S[0] = S_0\n",
    "trend_g = {}\n",
    "wiener_g = {}\n",
    "for i in range(2, 102):\n",
    "    dS[i-1] = mu*0.0028*(i-1)*S_0 + sigma*S_0*(np.random.normal(0, 1)*0.0028*np.sqrt(i-1))\n",
    "    S[i-1] = S[0] + dS[i-1]\n",
    "    trend_g[i-1] = mu*(i-1)*0.0028*S_0\n",
    "    wiener_g[i-1] = sigma*(np.random.normal(0, 1)*0.0028*np.sqrt(i-1))*S_0"
   ]
  },
  {
   "cell_type": "code",
   "execution_count": 120,
   "metadata": {},
   "outputs": [
    {
     "data": {
      "text/plain": [
       "{0: 1121.3699951171875,\n",
       " 1: 1125.794748503733,\n",
       " 2: 1125.7386689932941,\n",
       " 3: 1124.9781936177355,\n",
       " 4: 1124.8999406271084,\n",
       " 5: 1131.2264109077928,\n",
       " 6: 1125.9551460530788,\n",
       " 7: 1118.7920760448192,\n",
       " 8: 1126.3756122756226,\n",
       " 9: 1125.0634122381755,\n",
       " 10: 1131.320567437993,\n",
       " 11: 1131.911470429975,\n",
       " 12: 1123.0500536910467,\n",
       " 13: 1132.9172809675233,\n",
       " 14: 1126.9359611234256,\n",
       " 15: 1141.4378353449288,\n",
       " 16: 1138.418563246932,\n",
       " 17: 1141.6647342204178,\n",
       " 18: 1128.2114417660978,\n",
       " 19: 1136.374395384772,\n",
       " 20: 1141.9098846541947,\n",
       " 21: 1132.2558421436681,\n",
       " 22: 1138.670315621749,\n",
       " 23: 1142.243780058346,\n",
       " 24: 1140.3622011061125,\n",
       " 25: 1153.1037522785105,\n",
       " 26: 1136.6293821689883,\n",
       " 27: 1160.6211250312917,\n",
       " 28: 1136.9702214320532,\n",
       " 29: 1146.6970831017843,\n",
       " 30: 1148.6197312439717,\n",
       " 31: 1140.4291206731343,\n",
       " 32: 1154.6657959566905,\n",
       " 33: 1141.0095424592025,\n",
       " 34: 1141.2517898943006,\n",
       " 35: 1146.8848651283301,\n",
       " 36: 1153.8571040606303,\n",
       " 37: 1153.4781471445256,\n",
       " 38: 1149.627983741951,\n",
       " 39: 1158.8378306862996,\n",
       " 40: 1160.7685903797653,\n",
       " 41: 1152.5253588570656,\n",
       " 42: 1144.270598882563,\n",
       " 43: 1146.918464804305,\n",
       " 44: 1167.5555088265965,\n",
       " 45: 1167.8475754577119,\n",
       " 46: 1166.920273304506,\n",
       " 47: 1158.1181381231481,\n",
       " 48: 1157.3400331662701,\n",
       " 49: 1146.1343092843406,\n",
       " 50: 1154.9700597633334,\n",
       " 51: 1160.7855429248073,\n",
       " 52: 1168.3867336289059,\n",
       " 53: 1162.0713051851508,\n",
       " 54: 1171.5353133397136,\n",
       " 55: 1166.6930434685125,\n",
       " 56: 1186.2827109873672,\n",
       " 57: 1166.8823133448184,\n",
       " 58: 1157.8416965610154,\n",
       " 59: 1182.9926861851816,\n",
       " 60: 1174.6370152464187,\n",
       " 61: 1184.1270100339343,\n",
       " 62: 1171.54208673808,\n",
       " 63: 1173.8576291845832,\n",
       " 64: 1168.1190797753302,\n",
       " 65: 1180.2450671441845,\n",
       " 66: 1150.3150540088604,\n",
       " 67: 1177.3887596423071,\n",
       " 68: 1179.0512041931681,\n",
       " 69: 1169.6081979207831,\n",
       " 70: 1180.048506143287,\n",
       " 71: 1197.4568333126451,\n",
       " 72: 1186.5795803436836,\n",
       " 73: 1202.0046591021605,\n",
       " 74: 1181.6820608783187,\n",
       " 75: 1189.7797189135895,\n",
       " 76: 1162.4443867818195,\n",
       " 77: 1156.3934563218788,\n",
       " 78: 1179.141579462094,\n",
       " 79: 1182.2435750803538,\n",
       " 80: 1196.4283938157266,\n",
       " 81: 1196.1543405582245,\n",
       " 82: 1180.8857315415505,\n",
       " 83: 1194.2718779149764,\n",
       " 84: 1205.200017222662,\n",
       " 85: 1175.688946033395,\n",
       " 86: 1191.9262687781054,\n",
       " 87: 1204.902824232153,\n",
       " 88: 1204.7187113215678,\n",
       " 89: 1190.6665903360658,\n",
       " 90: 1191.0009746433086,\n",
       " 91: 1201.2077059411527,\n",
       " 92: 1210.6748478985278,\n",
       " 93: 1204.4419684060304,\n",
       " 94: 1188.2224734859685,\n",
       " 95: 1196.4954574028568,\n",
       " 96: 1195.5592056856005,\n",
       " 97: 1201.3263573872841,\n",
       " 98: 1201.0998697895004,\n",
       " 99: 1209.9522909689754,\n",
       " 100: 1213.6706790376713}"
      ]
     },
     "execution_count": 120,
     "metadata": {},
     "output_type": "execute_result"
    }
   ],
   "source": [
    "S"
   ]
  },
  {
   "cell_type": "code",
   "execution_count": 119,
   "metadata": {},
   "outputs": [
    {
     "data": {
      "text/plain": [
       "<matplotlib.legend.Legend at 0x1a1eaa0e50>"
      ]
     },
     "execution_count": 119,
     "metadata": {},
     "output_type": "execute_result"
    },
    {
     "data": {
      "image/png": "[encoded data removed]",
      "text/plain": [
       "<Figure size 504x504 with 1 Axes>"
      ]
     },
     "metadata": {},
     "output_type": "display_data"
    }
   ],
   "source": [
    "plt.figure(figsize=(7, 7))\n",
    "plt.plot(list(trend_g.keys()), list(trend_g.values()),'r', label='drift')\n",
    "plt.plot(list(wiener_g.keys()), list(wiener_g.values()), 'b', label='wiener dz')\n",
    "plt.plot(list(dS.keys()), list(dS.values()), 'g', label='generalized wiener')\n",
    "plt.legend(loc='upper left')"
   ]
  },
  {
   "cell_type": "markdown",
   "metadata": {},
   "source": [
    "&nbsp;\n",
    "\n",
    "- We finally create a DataFrame wherein the **First column contains actual daily prices** of Google stock from the date $2-12-2019$ onwards. The **Second column contains the predicted daily prices** using the Wiener process simulations.\n",
    "\n",
    "&nbsp;"
   ]
  },
  {
   "cell_type": "code",
   "execution_count": 151,
   "metadata": {},
   "outputs": [
    {
     "data": {
      "text/html": [
       "<div>\n",
       "<style scoped>\n",
       "    .dataframe tbody tr th:only-of-type {\n",
       "        vertical-align: middle;\n",
       "    }\n",
       "\n",
       "    .dataframe tbody tr th {\n",
       "        vertical-align: top;\n",
       "    }\n",
       "\n",
       "    .dataframe thead th {\n",
       "        text-align: right;\n",
       "    }\n",
       "</style>\n",
       "<table border=\"1\" class=\"dataframe\">\n",
       "  <thead>\n",
       "    <tr style=\"text-align: right;\">\n",
       "      <th></th>\n",
       "      <th>actual</th>\n",
       "      <th>predicted</th>\n",
       "    </tr>\n",
       "  </thead>\n",
       "  <tbody>\n",
       "    <tr>\n",
       "      <td>0</td>\n",
       "      <td>1120.160034</td>\n",
       "      <td>1121.369995</td>\n",
       "    </tr>\n",
       "    <tr>\n",
       "      <td>1</td>\n",
       "      <td>1121.670044</td>\n",
       "      <td>1125.794749</td>\n",
       "    </tr>\n",
       "    <tr>\n",
       "      <td>2</td>\n",
       "      <td>1113.650024</td>\n",
       "      <td>1125.738669</td>\n",
       "    </tr>\n",
       "    <tr>\n",
       "      <td>3</td>\n",
       "      <td>1118.560059</td>\n",
       "      <td>1124.978194</td>\n",
       "    </tr>\n",
       "    <tr>\n",
       "      <td>4</td>\n",
       "      <td>1113.800049</td>\n",
       "      <td>1124.899941</td>\n",
       "    </tr>\n",
       "    <tr>\n",
       "      <td>...</td>\n",
       "      <td>...</td>\n",
       "      <td>...</td>\n",
       "    </tr>\n",
       "    <tr>\n",
       "      <td>96</td>\n",
       "      <td>1111.250000</td>\n",
       "      <td>1195.559206</td>\n",
       "    </tr>\n",
       "    <tr>\n",
       "      <td>97</td>\n",
       "      <td>1121.579956</td>\n",
       "      <td>1201.326357</td>\n",
       "    </tr>\n",
       "    <tr>\n",
       "      <td>98</td>\n",
       "      <td>1131.589966</td>\n",
       "      <td>1201.099870</td>\n",
       "    </tr>\n",
       "    <tr>\n",
       "      <td>99</td>\n",
       "      <td>1116.349976</td>\n",
       "      <td>1209.952291</td>\n",
       "    </tr>\n",
       "    <tr>\n",
       "      <td>100</td>\n",
       "      <td>1124.829956</td>\n",
       "      <td>1213.670679</td>\n",
       "    </tr>\n",
       "  </tbody>\n",
       "</table>\n",
       "<p>101 rows × 2 columns</p>\n",
       "</div>"
      ],
      "text/plain": [
       "          actual    predicted\n",
       "0    1120.160034  1121.369995\n",
       "1    1121.670044  1125.794749\n",
       "2    1113.650024  1125.738669\n",
       "3    1118.560059  1124.978194\n",
       "4    1113.800049  1124.899941\n",
       "..           ...          ...\n",
       "96   1111.250000  1195.559206\n",
       "97   1121.579956  1201.326357\n",
       "98   1131.589966  1201.099870\n",
       "99   1116.349976  1209.952291\n",
       "100  1124.829956  1213.670679\n",
       "\n",
       "[101 rows x 2 columns]"
      ]
     },
     "execution_count": 151,
     "metadata": {},
     "output_type": "execute_result"
    }
   ],
   "source": [
    "data = pd.DataFrame({'actual': dat1.iloc[1:102].values, \n",
    "                      'predicted': pd.Series(S).values })\n",
    "data"
   ]
  }
 ],
 "metadata": {
  "kernelspec": {
   "display_name": "Python 3",
   "language": "python",
   "name": "python3"
  },
  "language_info": {
   "codemirror_mode": {
    "name": "ipython",
    "version": 3
   },
   "file_extension": ".py",
   "mimetype": "text/x-python",
   "name": "python",
   "nbconvert_exporter": "python",
   "pygments_lexer": "ipython3",
   "version": "3.7.4"
  }
 },
 "nbformat": 4,
 "nbformat_minor": 4
}
