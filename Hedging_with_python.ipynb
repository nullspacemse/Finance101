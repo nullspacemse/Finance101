{
 "cells": [
  {
   "cell_type": "markdown",
   "metadata": {},
   "source": [
    "# DOP Project\n",
    "\n",
    "=====\n",
    "\n",
    "The primary aim of this exercise is to set up a **cross hedging** scenario by using **monthly price changes**. Recall that a **cross hedge** is essentially a type of hedging strategy wherein the asset that exposes an investor to price volatility in the cash market, is offset by having a position in the futures market such that the underlying asset is different from the asset causing us exposure. The methodology in this analysis consists of the following key concepts:\n",
    "\n",
    "1. **Hedge Ratio**: In a cross hedging scenario, correlations between the underlying asset and asset causing price risk, are usually quite different. The main attempt is to have a **minimum variance hedge ratio** and is given by the expression below. Note in addition that this obtained by the **slope** of the best fit line by regressing **change in spot price** on **change in futures price**.\n",
    "\n",
    "$$h^* = \\dfrac{\\rho\\sigma_S}{\\sigma^F}$$\n",
    "\n",
    "\n",
    "2. **Hedge effectiveness**: This is the proportion of variance that is eliminated by hedging. It is essentially the **goodness of fit** or $R^2$ measure from our regression results and is also denoted by $\\rho^2$.\n",
    "\n",
    "3. **Data preparation**: Data is prepared by **backadjusting** using the **nearest month approach** so as to obtain a continuous series of futures prices. \n",
    "\n",
    "4. **Testing the model**: Finally the model is tested on a **holdout sample** so as to judge the hedge effectiveness on the new data.\n",
    "\n",
    "&nbsp;"
   ]
  },
  {
   "cell_type": "code",
   "execution_count": 1,
   "metadata": {},
   "outputs": [],
   "source": [
    "%matplotlib inline\n",
    "import matplotlib.pyplot as plt\n",
    "import pandas as pd\n",
    "import numpy as np\n",
    "import statsmodels.api as sm\n",
    "plt.style.use('seaborn-whitegrid')"
   ]
  },
  {
   "cell_type": "markdown",
   "metadata": {},
   "source": [
    "&nbsp; \n",
    "\n",
    "## The data: Preparation and Adjustments\n",
    "\n",
    "Futures data for the last $2$ years has been taken. The **stock future** is chosen to be that of **Reliance Industries**. Below there is a quick glance at the raw data after separating out only the relevant columns of - **date, expiry date, close price**.\n",
    "\n",
    "&nbsp;"
   ]
  },
  {
   "cell_type": "code",
   "execution_count": 308,
   "metadata": {},
   "outputs": [
    {
     "data": {
      "text/html": [
       "<div>\n",
       "<style scoped>\n",
       "    .dataframe tbody tr th:only-of-type {\n",
       "        vertical-align: middle;\n",
       "    }\n",
       "\n",
       "    .dataframe tbody tr th {\n",
       "        vertical-align: top;\n",
       "    }\n",
       "\n",
       "    .dataframe thead th {\n",
       "        text-align: right;\n",
       "    }\n",
       "</style>\n",
       "<table border=\"1\" class=\"dataframe\">\n",
       "  <thead>\n",
       "    <tr style=\"text-align: right;\">\n",
       "      <th></th>\n",
       "      <th>date</th>\n",
       "      <th>exp_date</th>\n",
       "      <th>close</th>\n",
       "    </tr>\n",
       "  </thead>\n",
       "  <tbody>\n",
       "    <tr>\n",
       "      <td>0</td>\n",
       "      <td>2020-09-11</td>\n",
       "      <td>2020-09-24</td>\n",
       "      <td>2320.10</td>\n",
       "    </tr>\n",
       "    <tr>\n",
       "      <td>1</td>\n",
       "      <td>2020-09-11</td>\n",
       "      <td>2020-11-26</td>\n",
       "      <td>2334.00</td>\n",
       "    </tr>\n",
       "    <tr>\n",
       "      <td>2</td>\n",
       "      <td>2020-09-11</td>\n",
       "      <td>2020-10-29</td>\n",
       "      <td>2329.65</td>\n",
       "    </tr>\n",
       "    <tr>\n",
       "      <td>3</td>\n",
       "      <td>2020-09-10</td>\n",
       "      <td>2020-11-26</td>\n",
       "      <td>2331.75</td>\n",
       "    </tr>\n",
       "  </tbody>\n",
       "</table>\n",
       "</div>"
      ],
      "text/plain": [
       "        date   exp_date    close\n",
       "0 2020-09-11 2020-09-24  2320.10\n",
       "1 2020-09-11 2020-11-26  2334.00\n",
       "2 2020-09-11 2020-10-29  2329.65\n",
       "3 2020-09-10 2020-11-26  2331.75"
      ]
     },
     "execution_count": 308,
     "metadata": {},
     "output_type": "execute_result"
    }
   ],
   "source": [
    "df2.iloc[: ,3:].head(4)"
   ]
  },
  {
   "cell_type": "markdown",
   "metadata": {},
   "source": [
    "&nbsp;\n",
    "\n",
    "Now before starting out with **backadjusting** the data, the matching points of **expiry date** and **date** are found. These are important to our backadjusting process. The idea is essentially this:\n",
    "\n",
    "- Suppose there is a **23 April 2020** future contract and the date today is also **23 April 2020**. Also suppose that on the same date there is another contract of **5 June 2020** existing on the same date. Now it is obvious that both these contracts would have had different historical price values. This is the reason that **gaps** are usually noticed in futures data. Now to correct this and make it continuous, we take the difference of the **date of expiry** contract of **23 April 2020** and find the difference in its price that day, with that of the **nearest month** future contract, which in this case is **5 June 2020**. Suppose the difference in price is $+7.25$. Then we would essentially add this amount to **all** the futures contract values before that date. This smooths out the gaps and makes the series continuous.\n",
    "\n",
    "&nbsp;"
   ]
  },
  {
   "cell_type": "code",
   "execution_count": 309,
   "metadata": {},
   "outputs": [
    {
     "data": {
      "text/html": [
       "<div>\n",
       "<style scoped>\n",
       "    .dataframe tbody tr th:only-of-type {\n",
       "        vertical-align: middle;\n",
       "    }\n",
       "\n",
       "    .dataframe tbody tr th {\n",
       "        vertical-align: top;\n",
       "    }\n",
       "\n",
       "    .dataframe thead th {\n",
       "        text-align: right;\n",
       "    }\n",
       "</style>\n",
       "<table border=\"1\" class=\"dataframe\">\n",
       "  <thead>\n",
       "    <tr style=\"text-align: right;\">\n",
       "      <th></th>\n",
       "      <th>date</th>\n",
       "      <th>exp_date</th>\n",
       "      <th>close</th>\n",
       "    </tr>\n",
       "  </thead>\n",
       "  <tbody>\n",
       "    <tr>\n",
       "      <td>33</td>\n",
       "      <td>2020-08-27</td>\n",
       "      <td>2020-08-27</td>\n",
       "      <td>2107.45</td>\n",
       "    </tr>\n",
       "    <tr>\n",
       "      <td>95</td>\n",
       "      <td>2020-07-30</td>\n",
       "      <td>2020-07-30</td>\n",
       "      <td>2111.10</td>\n",
       "    </tr>\n",
       "    <tr>\n",
       "      <td>167</td>\n",
       "      <td>2020-06-25</td>\n",
       "      <td>2020-06-25</td>\n",
       "      <td>1720.25</td>\n",
       "    </tr>\n",
       "    <tr>\n",
       "      <td>229</td>\n",
       "      <td>2020-05-28</td>\n",
       "      <td>2020-05-28</td>\n",
       "      <td>1469.05</td>\n",
       "    </tr>\n",
       "  </tbody>\n",
       "</table>\n",
       "</div>"
      ],
      "text/plain": [
       "          date   exp_date    close\n",
       "33  2020-08-27 2020-08-27  2107.45\n",
       "95  2020-07-30 2020-07-30  2111.10\n",
       "167 2020-06-25 2020-06-25  1720.25\n",
       "229 2020-05-28 2020-05-28  1469.05"
      ]
     },
     "execution_count": 309,
     "metadata": {},
     "output_type": "execute_result"
    }
   ],
   "source": [
    "df3[df3['date']==df3['exp_date']].head(4)"
   ]
  },
  {
   "cell_type": "markdown",
   "metadata": {},
   "source": [
    "&nbsp;\n",
    "\n",
    "Below are the two code blocks that find these **price differences** and adjusts them to the rest of the prices, all while working **backwards**. After this, a small glimpse of the new series is presented.\n",
    "\n",
    "&nbsp;"
   ]
  },
  {
   "cell_type": "code",
   "execution_count": 189,
   "metadata": {},
   "outputs": [],
   "source": [
    "df5.iloc[1328, 2] = df5.iloc[1328, 2] + (round(df5.iloc[1329, 2] - df5.iloc[1328, 2], 2))"
   ]
  },
  {
   "cell_type": "code",
   "execution_count": 194,
   "metadata": {},
   "outputs": [],
   "source": [
    "df5.iloc[1452:, 2] = df5.iloc[1452:, 2] + (round(df5.iloc[1451, 2] - df5.iloc[1452, 2], 2))"
   ]
  },
  {
   "cell_type": "code",
   "execution_count": 310,
   "metadata": {},
   "outputs": [
    {
     "data": {
      "text/html": [
       "<div>\n",
       "<style scoped>\n",
       "    .dataframe tbody tr th:only-of-type {\n",
       "        vertical-align: middle;\n",
       "    }\n",
       "\n",
       "    .dataframe tbody tr th {\n",
       "        vertical-align: top;\n",
       "    }\n",
       "\n",
       "    .dataframe thead th {\n",
       "        text-align: right;\n",
       "    }\n",
       "</style>\n",
       "<table border=\"1\" class=\"dataframe\">\n",
       "  <thead>\n",
       "    <tr style=\"text-align: right;\">\n",
       "      <th></th>\n",
       "      <th>date</th>\n",
       "      <th>exp_date</th>\n",
       "      <th>close</th>\n",
       "    </tr>\n",
       "  </thead>\n",
       "  <tbody>\n",
       "    <tr>\n",
       "      <td>0</td>\n",
       "      <td>2020-09-11</td>\n",
       "      <td>2020-09-24</td>\n",
       "      <td>2320.10</td>\n",
       "    </tr>\n",
       "    <tr>\n",
       "      <td>1</td>\n",
       "      <td>2020-09-11</td>\n",
       "      <td>2020-10-29</td>\n",
       "      <td>2329.65</td>\n",
       "    </tr>\n",
       "    <tr>\n",
       "      <td>2</td>\n",
       "      <td>2020-09-11</td>\n",
       "      <td>2020-11-26</td>\n",
       "      <td>2334.00</td>\n",
       "    </tr>\n",
       "    <tr>\n",
       "      <td>3</td>\n",
       "      <td>2020-09-10</td>\n",
       "      <td>2020-11-26</td>\n",
       "      <td>2331.75</td>\n",
       "    </tr>\n",
       "    <tr>\n",
       "      <td>4</td>\n",
       "      <td>2020-09-10</td>\n",
       "      <td>2020-09-24</td>\n",
       "      <td>2316.30</td>\n",
       "    </tr>\n",
       "  </tbody>\n",
       "</table>\n",
       "</div>"
      ],
      "text/plain": [
       "        date   exp_date    close\n",
       "0 2020-09-11 2020-09-24  2320.10\n",
       "1 2020-09-11 2020-10-29  2329.65\n",
       "2 2020-09-11 2020-11-26  2334.00\n",
       "3 2020-09-10 2020-11-26  2331.75\n",
       "4 2020-09-10 2020-09-24  2316.30"
      ]
     },
     "execution_count": 310,
     "metadata": {},
     "output_type": "execute_result"
    }
   ],
   "source": [
    "df5.head(5)"
   ]
  },
  {
   "cell_type": "markdown",
   "metadata": {},
   "source": [
    "&nbsp;\n",
    "\n",
    "Next, we obtain **stock price** data for **HDFC**. This is considered to be the asset that we are exposed to in the cash market. \n",
    "\n",
    "***NOTE: HDFC and Reliance are specifically chosen because of a prior belief that there are sectoral correlations between Industrials and Financial sectors***\n",
    "\n",
    "Further note that some of the data processing tasks involved are the following:\n",
    "\n",
    "1. Changing the **date** fields to a **date format** so that time based adjustments could be made.\n",
    "\n",
    "2. Changing the **price** fields to bring the price into a **numeric** format so that models could be trained without hassle. \n",
    "\n",
    "***Some of the code blocks are implemented these changes are presented below, just for reference.***\n",
    "\n",
    "&nbsp;"
   ]
  },
  {
   "cell_type": "code",
   "execution_count": 218,
   "metadata": {},
   "outputs": [],
   "source": [
    "hd['date'] = pd.to_datetime(hd['Date '])"
   ]
  },
  {
   "cell_type": "code",
   "execution_count": 219,
   "metadata": {},
   "outputs": [],
   "source": [
    "hd['close_stock'] = hd['close '].str.replace(',', '').astype(float)"
   ]
  },
  {
   "cell_type": "markdown",
   "metadata": {},
   "source": [
    "&nbsp;\n",
    "\n",
    "After this, we compute the **monthly price changes** in the **spot** and **futures** prices. Essentially we are computing $\\Delta S$ for **HDFC** and $\\Delta F$ for **Reliance futures**. Note that we calculate a ratio based change in values between successive months. After this, the combined dataset is presented. This dataset contains the following columns:\n",
    "\n",
    "1. **close**: Is the $\\Delta F$ corresponding to proportional monthly price changes for **Reliance**.\n",
    "\n",
    "2. **close_stock**: Is the $\\Delta S$ corresponding to proportional monthly price changes for **HDFC**.\n",
    "\n",
    "***NOTE: The data views are purposely kept to a small size so as to minimize space in the document.***\n",
    "\n",
    "&nbsp;"
   ]
  },
  {
   "cell_type": "code",
   "execution_count": 237,
   "metadata": {},
   "outputs": [],
   "source": [
    "monthly = dat1.iloc[[0, 23, 45, 67, 88, 107, 127, 146, 168, 190, 210, 230, 250, 269, 292,\n",
    "           313, 333, 351, 372, 391, 413, 435, 454, 474, 491], :]"
   ]
  },
  {
   "cell_type": "code",
   "execution_count": 245,
   "metadata": {},
   "outputs": [],
   "source": [
    "future_chan = mon1['close'].pct_change()"
   ]
  },
  {
   "cell_type": "code",
   "execution_count": 246,
   "metadata": {},
   "outputs": [],
   "source": [
    "stock_chan = mon1['close_stock'].pct_change()"
   ]
  },
  {
   "cell_type": "code",
   "execution_count": 313,
   "metadata": {},
   "outputs": [
    {
     "data": {
      "text/html": [
       "<div>\n",
       "<style scoped>\n",
       "    .dataframe tbody tr th:only-of-type {\n",
       "        vertical-align: middle;\n",
       "    }\n",
       "\n",
       "    .dataframe tbody tr th {\n",
       "        vertical-align: top;\n",
       "    }\n",
       "\n",
       "    .dataframe thead th {\n",
       "        text-align: right;\n",
       "    }\n",
       "</style>\n",
       "<table border=\"1\" class=\"dataframe\">\n",
       "  <thead>\n",
       "    <tr style=\"text-align: right;\">\n",
       "      <th></th>\n",
       "      <th>close</th>\n",
       "      <th>close_stock</th>\n",
       "    </tr>\n",
       "    <tr>\n",
       "      <th>date</th>\n",
       "      <th></th>\n",
       "      <th></th>\n",
       "    </tr>\n",
       "  </thead>\n",
       "  <tbody>\n",
       "    <tr>\n",
       "      <td>2020-08-11</td>\n",
       "      <td>-0.076053</td>\n",
       "      <td>0.033142</td>\n",
       "    </tr>\n",
       "    <tr>\n",
       "      <td>2020-07-10</td>\n",
       "      <td>-0.120892</td>\n",
       "      <td>0.032435</td>\n",
       "    </tr>\n",
       "    <tr>\n",
       "      <td>2020-06-10</td>\n",
       "      <td>-0.167020</td>\n",
       "      <td>-0.040668</td>\n",
       "    </tr>\n",
       "    <tr>\n",
       "      <td>2020-05-11</td>\n",
       "      <td>0.000860</td>\n",
       "      <td>-0.083375</td>\n",
       "    </tr>\n",
       "  </tbody>\n",
       "</table>\n",
       "</div>"
      ],
      "text/plain": [
       "               close  close_stock\n",
       "date                             \n",
       "2020-08-11 -0.076053     0.033142\n",
       "2020-07-10 -0.120892     0.032435\n",
       "2020-06-10 -0.167020    -0.040668\n",
       "2020-05-11  0.000860    -0.083375"
      ]
     },
     "execution_count": 313,
     "metadata": {},
     "output_type": "execute_result"
    }
   ],
   "source": [
    "final_data.head(4)"
   ]
  },
  {
   "cell_type": "markdown",
   "metadata": {},
   "source": [
    "&nbsp;\n",
    "\n",
    "To get an intuitive idea about the relationships between the data, here are some **correlation** measures and a **scatterplot**. We can see that the **correlation** between the underlying asset and exposed asset is close to $44\\%$.\n",
    "\n",
    "&nbsp;"
   ]
  },
  {
   "cell_type": "code",
   "execution_count": 314,
   "metadata": {},
   "outputs": [
    {
     "data": {
      "text/html": [
       "<div>\n",
       "<style scoped>\n",
       "    .dataframe tbody tr th:only-of-type {\n",
       "        vertical-align: middle;\n",
       "    }\n",
       "\n",
       "    .dataframe tbody tr th {\n",
       "        vertical-align: top;\n",
       "    }\n",
       "\n",
       "    .dataframe thead th {\n",
       "        text-align: right;\n",
       "    }\n",
       "</style>\n",
       "<table border=\"1\" class=\"dataframe\">\n",
       "  <thead>\n",
       "    <tr style=\"text-align: right;\">\n",
       "      <th></th>\n",
       "      <th>close</th>\n",
       "      <th>close_stock</th>\n",
       "    </tr>\n",
       "  </thead>\n",
       "  <tbody>\n",
       "    <tr>\n",
       "      <td>close</td>\n",
       "      <td>1.000000</td>\n",
       "      <td>0.442878</td>\n",
       "    </tr>\n",
       "    <tr>\n",
       "      <td>close_stock</td>\n",
       "      <td>0.442878</td>\n",
       "      <td>1.000000</td>\n",
       "    </tr>\n",
       "  </tbody>\n",
       "</table>\n",
       "</div>"
      ],
      "text/plain": [
       "                close  close_stock\n",
       "close        1.000000     0.442878\n",
       "close_stock  0.442878     1.000000"
      ]
     },
     "execution_count": 314,
     "metadata": {},
     "output_type": "execute_result"
    },
    {
     "data": {
      "image/png": "[encoded data removed]",
      "text/plain": [
       "<Figure size 432x288 with 1 Axes>"
      ]
     },
     "metadata": {
      "needs_background": "light"
     },
     "output_type": "display_data"
    }
   ],
   "source": [
    "plt.scatter(final_data['close'], final_data['close_stock'])\n",
    "final_data.iloc[5:, :].corr()"
   ]
  },
  {
   "cell_type": "markdown",
   "metadata": {},
   "source": [
    "&nbsp;\n",
    "\n",
    "## Model fit and related judgements\n",
    "\n",
    "Here a **linear regression** model is fit on the data using the **OLS** method. Note that the regression function is basically given by:\n",
    "\n",
    "$$\\Delta S = c + h^*\\Delta F$$\n",
    "\n",
    "Where the slope of the best fit line happens to be the **optimal hedge ratio**. It can be noticed from the regression results that:\n",
    "\n",
    "1. The **minimum variance hedge ratio** is approximately $0.4087$.\n",
    "\n",
    "2. The coefficient is **statistically significant** with respect to a significance value of $5\\%$ since the the associated **p** value is $0.04$. \n",
    "\n",
    "3. The **hedge effectiveness** or the **goodness of fit** is around $20\\%$. This means that creating a **cross hedge** on HDFC using a Reliance future **eliminates around $20\\%$ of the price risk**. \n",
    "\n",
    "&nbsp;"
   ]
  },
  {
   "cell_type": "code",
   "execution_count": 295,
   "metadata": {},
   "outputs": [],
   "source": [
    "model = sm.OLS(final_data.iloc[5:, 1], final_data.iloc[5:, 0])"
   ]
  },
  {
   "cell_type": "code",
   "execution_count": 297,
   "metadata": {},
   "outputs": [
    {
     "name": "stdout",
     "output_type": "stream",
     "text": [
      "                                 OLS Regression Results                                \n",
      "=======================================================================================\n",
      "Dep. Variable:            close_stock   R-squared (uncentered):                   0.201\n",
      "Model:                            OLS   Adj. R-squared (uncentered):              0.157\n",
      "Method:                 Least Squares   F-statistic:                              4.528\n",
      "Date:                Sun, 13 Sep 2020   Prob (F-statistic):                      0.0474\n",
      "Time:                        16:25:34   Log-Likelihood:                          21.481\n",
      "No. Observations:                  19   AIC:                                     -40.96\n",
      "Df Residuals:                      18   BIC:                                     -40.02\n",
      "Df Model:                           1                                                  \n",
      "Covariance Type:            nonrobust                                                  \n",
      "==============================================================================\n",
      "                 coef    std err          t      P>|t|      [0.025      0.975]\n",
      "------------------------------------------------------------------------------\n",
      "close          0.4087      0.192      2.128      0.047       0.005       0.812\n",
      "==============================================================================\n",
      "Omnibus:                        5.988   Durbin-Watson:                   1.307\n",
      "Prob(Omnibus):                  0.050   Jarque-Bera (JB):                3.544\n",
      "Skew:                           0.969   Prob(JB):                        0.170\n",
      "Kurtosis:                       3.850   Cond. No.                         1.00\n",
      "==============================================================================\n",
      "\n",
      "Warnings:\n",
      "[1] Standard Errors assume that the covariance matrix of the errors is correctly specified.\n"
     ]
    }
   ],
   "source": [
    "print(results.summary())"
   ]
  },
  {
   "cell_type": "markdown",
   "metadata": {},
   "source": [
    "&nbsp;\n",
    "\n",
    "## Setting up the Hedge\n",
    "\n",
    "First we can find the **optimal number of contracts** required as per the optimal hedge ratio. This is basically given by:\n",
    "\n",
    "$$ N^* = h^*\\dfrac{V_A}{V_F}$$\n",
    "\n",
    "Where we have the following notations:\n",
    "\n",
    "1. $N^*$ is the optimal number of futures contracts to buy.\n",
    "\n",
    "2. $V_F$ is the value of one future contract.\n",
    "\n",
    "3. $V_A$ is the value of our holding in the asset. \n",
    "\n",
    "&nbsp;\n",
    "\n",
    "### Using the model\n",
    "\n",
    "Let us assume that our portfolio consists only of $10$ shares of **HDFC**. Now let us say that we are in the month of **March** and as on **9 March 2020** our holding is worth:\n",
    "$$ Rs. \\ 2,027 \\times 10 = Rs. \\ 20,270$$\n",
    "\n",
    "Now let us say that we want to hedge our position against any potential price fluctuations in the **HDFC** stock, so we wish to take up a **short position** in the futures market. Naturally, we would like to choose a futures contract for **HDFC** itself but we assume that it is not available and so we select the **Reliance** future contract as per our model specifications. As on **9 March 2020** the futures contract is worth $Rs. \\ 1,121$. \n",
    "\n",
    "The optimum number of contracts is then given by:\n",
    "\n",
    "$$N^* = 0.4087 \\times \\dfrac{20270}{1121} = 7.39 \\approx 8$$\n",
    "\n",
    "&nbsp;\n",
    "\n",
    "***NOTE that we are setting up a month long hedge, so we will look at the next month position.***\n",
    "\n",
    "Assuming that we know that futures price in the next month, that is on **9 April 2020**, we can use our model to predict **price changes** in the **spot price of HDFC**. On the basis of that we will get to know our **net hedged position**.\n",
    "\n",
    "Before we get to computing that, here a snippet of predicted **spot price** values by our model. \n",
    "\n",
    "&nbsp;"
   ]
  },
  {
   "cell_type": "code",
   "execution_count": 319,
   "metadata": {},
   "outputs": [
    {
     "data": {
      "text/plain": [
       "date\n",
       "2020-08-11   -0.031086\n",
       "2020-07-10   -0.049413\n",
       "2020-06-10   -0.068268\n",
       "2020-05-11    0.000352\n",
       "2020-04-09   -0.090237\n",
       "dtype: float64"
      ]
     },
     "execution_count": 319,
     "metadata": {},
     "output_type": "execute_result"
    }
   ],
   "source": [
    "ypredicted = results.predict(final_data.iloc[:5, 0])\n",
    "ypredicted"
   ]
  },
  {
   "cell_type": "code",
   "execution_count": 320,
   "metadata": {},
   "outputs": [
    {
     "data": {
      "text/plain": [
       "date\n",
       "2020-08-11   -0.076053\n",
       "2020-07-10   -0.120892\n",
       "2020-06-10   -0.167020\n",
       "2020-05-11    0.000860\n",
       "2020-04-09   -0.220769\n",
       "Name: close, dtype: float64"
      ]
     },
     "execution_count": 320,
     "metadata": {},
     "output_type": "execute_result"
    }
   ],
   "source": [
    "final_data.iloc[:5, 0]"
   ]
  },
  {
   "cell_type": "markdown",
   "metadata": {},
   "source": [
    "&nbsp;\n",
    "\n",
    "We can clearly see from the code output that the **predicted spot price change** as on **9 April 2020** is approximately:\n",
    "\n",
    "$$\\Delta S = -0.090237$$\n",
    "\n",
    "Also from our prior knowledge we know the **change in futures price** as on **9 April 2020** to be approximately:\n",
    "\n",
    "$$\\Delta F = -0.2207$$\n",
    "\n",
    "Now as found above, with $8$ futures contracts, our position in the futures market would be:\n",
    "\n",
    "$$8\\times (1121 - 874.6) = Rs. \\ 1,971$$\n",
    "\n",
    "Hence we are **gaining** from the **futures market** due to the **price drop**. Now we will see what is happening to our **portfolio**:\n",
    "\n",
    "$$20270 \\times (-9\\%) = Rs. \\ 18,445.7$$\n",
    "\n",
    "Hence in the **spot market** we are **losing** an amount of:\n",
    "\n",
    "$$20270 - 18445.7 = Rs. 1824.3$$\n",
    "\n",
    "***The net position from the hedging strategy is:***\n",
    "\n",
    "$$18445 + 1971 = Rs. \\ 20416$$\n",
    "\n",
    "***Lastly we note that the error between the actual price change in the holdout set and the predicted value of price change is only 0.07 for our particular test value. So essentially we can say that even in the actual scenario there won't be any significant difference between our predicted hedge position and the actual hedge position, should we choose to apply our strategy based on the model.***\n",
    "\n",
    "### Checking the Hedge Effectiveness for the holdout set\n",
    "\n",
    "Now we need to have some measure of how well this model performs in future time periods, on average. Essentially with the model characteristics we are implicitly assuming that the relationship captured by the model between **changes in futures price** and **changes in stock price**, remains the **same in the future**. We essentially extend our model to predict for future spot prices, under the assumption that the true relationship between the variables remains quite similar. It is only then that our model predictions of the future will have some semblance with actual values, thereby making our **hedge effective**. Noting that **hedge effectiveness** is actually given by either the **goodness of fit** of the regression model or the **correlation squared**. The $\\rho^2$ for the test set has been calculated so as to get a sense of the true hedge effectiveness in the future.\n",
    "\n",
    "We find that it is around $0.26$, which is infact quite close to the model $R^2$ of $0.201$. The closeness of these **hedge effectiveness** values between the training and holdout sets, suggests that our model might do a decent job at setting up effective hedges for the future, with a reasonable degree of confidence.\n",
    "\n",
    "&nbsp;\n",
    "\n"
   ]
  },
  {
   "cell_type": "code",
   "execution_count": 26,
   "metadata": {},
   "outputs": [
    {
     "data": {
      "text/html": [
       "<div>\n",
       "<style scoped>\n",
       "    .dataframe tbody tr th:only-of-type {\n",
       "        vertical-align: middle;\n",
       "    }\n",
       "\n",
       "    .dataframe tbody tr th {\n",
       "        vertical-align: top;\n",
       "    }\n",
       "\n",
       "    .dataframe thead th {\n",
       "        text-align: right;\n",
       "    }\n",
       "</style>\n",
       "<table border=\"1\" class=\"dataframe\">\n",
       "  <thead>\n",
       "    <tr style=\"text-align: right;\">\n",
       "      <th></th>\n",
       "      <th>close</th>\n",
       "      <th>close_stock</th>\n",
       "    </tr>\n",
       "  </thead>\n",
       "  <tbody>\n",
       "    <tr>\n",
       "      <td>close</td>\n",
       "      <td>1.000000</td>\n",
       "      <td>0.268471</td>\n",
       "    </tr>\n",
       "    <tr>\n",
       "      <td>close_stock</td>\n",
       "      <td>0.268471</td>\n",
       "      <td>1.000000</td>\n",
       "    </tr>\n",
       "  </tbody>\n",
       "</table>\n",
       "</div>"
      ],
      "text/plain": [
       "                close  close_stock\n",
       "close        1.000000     0.268471\n",
       "close_stock  0.268471     1.000000"
      ]
     },
     "execution_count": 26,
     "metadata": {},
     "output_type": "execute_result"
    }
   ],
   "source": [
    "(check.iloc[:5].corr())**2"
   ]
  },
  {
   "cell_type": "markdown",
   "metadata": {},
   "source": [
    "&nbsp;\n",
    "\n",
    "## Conclusion\n",
    "\n",
    "We can clearly see that by choosing this particular **cross hedge** we were successfully able to mitigate the risk arising from **HDFC** stock price volatility by **shorting** $8$ futures contracts of **Relaince**. We started off with a portfolio worth of $Rs.20,270$ and ended up with almost the same amount of $Rs.20416$. The loss due to price drop in the stock was **offset** by a corresponding gain in the futures market. Hence in this project it is clear that:\n",
    "\n",
    "***By using continuous backadjustments in futures data, choosing decently correlated cross hedging assets, and fitting a model to find optimal hedge ratio (and hedge effectiveness), we are able to successfully predict future spot price changes and essentially have a hedging strategy that benefits us.***"
   ]
  }
 ],
 "metadata": {
  "kernelspec": {
   "display_name": "Python 3",
   "language": "python",
   "name": "python3"
  },
  "language_info": {
   "codemirror_mode": {
    "name": "ipython",
    "version": 3
   },
   "file_extension": ".py",
   "mimetype": "text/x-python",
   "name": "python",
   "nbconvert_exporter": "python",
   "pygments_lexer": "ipython3",
   "version": "3.7.4"
  }
 },
 "nbformat": 4,
 "nbformat_minor": 4
}
